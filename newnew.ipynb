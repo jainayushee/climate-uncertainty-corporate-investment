{
 "cells": [
  {
   "cell_type": "code",
   "execution_count": 10,
   "metadata": {},
   "outputs": [],
   "source": [
    "import pandas as pd\n",
    "\n",
    "df = pd.read_csv(\"combined_data (1).csv\")"
   ]
  },
  {
   "cell_type": "code",
   "execution_count": 11,
   "metadata": {},
   "outputs": [
    {
     "data": {
      "text/plain": [
       "(113024, 12)"
      ]
     },
     "execution_count": 11,
     "metadata": {},
     "output_type": "execute_result"
    }
   ],
   "source": [
    "df.shape"
   ]
  },
  {
   "cell_type": "code",
   "execution_count": 12,
   "metadata": {},
   "outputs": [],
   "source": [
    "df[\"y\"] = df[\"total_investment\"] / df[\"size\"]"
   ]
  },
  {
   "cell_type": "code",
   "execution_count": 13,
   "metadata": {},
   "outputs": [
    {
     "name": "stderr",
     "output_type": "stream",
     "text": [
      "c:\\Users\\Ayushee\\AppData\\Local\\Programs\\Python\\Python311\\Lib\\site-packages\\linearmodels\\panel\\model.py:882: MissingValueWarning: \n",
      "Inputs contain missing values. Dropping rows with missing observations.\n",
      "  super().__init__(dependent, exog, weights=weights, check_rank=check_rank)\n"
     ]
    },
    {
     "name": "stdout",
     "output_type": "stream",
     "text": [
      "                          PooledOLS Estimation Summary                          \n",
      "================================================================================\n",
      "Dep. Variable:                      y   R-squared:                        0.0316\n",
      "Estimator:                  PooledOLS   R-squared (Between):              0.1282\n",
      "No. Observations:              110612   R-squared (Within):               0.0238\n",
      "Date:                Sat, Feb 24 2024   R-squared (Overall):              0.0316\n",
      "Time:                        17:57:45   Log-likelihood                -2.807e+05\n",
      "Cov. Estimator:            Unadjusted                                           \n",
      "                                        F-statistic:                      722.13\n",
      "Entities:                         280   P-value                           0.0000\n",
      "Avg Obs:                       395.04   Distribution:                F(5,110606)\n",
      "Min Obs:                       9.0000                                           \n",
      "Max Obs:                       2116.0   F-statistic (robust):             722.13\n",
      "                                        P-value                           0.0000\n",
      "Time periods:                      24   Distribution:                F(5,110606)\n",
      "Avg Obs:                       4608.8                                           \n",
      "Min Obs:                       3644.0                                           \n",
      "Max Obs:                       5099.0                                           \n",
      "                                                                                \n",
      "                             Parameter Estimates                              \n",
      "==============================================================================\n",
      "            Parameter  Std. Err.     T-stat    P-value    Lower CI    Upper CI\n",
      "------------------------------------------------------------------------------\n",
      "const          1.9098     0.0262     72.777     0.0000      1.8584      1.9612\n",
      "cpu_index     -0.0076     0.0002    -42.654     0.0000     -0.0080     -0.0073\n",
      "aqc        -3.989e-05   3.92e-06    -10.177     0.0000  -4.757e-05  -3.221e-05\n",
      "liquidity      0.0111     0.0024     4.5695     0.0000      0.0063      0.0158\n",
      "leverage       0.0002     0.0004     0.4417     0.6587     -0.0006      0.0009\n",
      "ROA           -2.4376     0.0676    -36.082     0.0000     -2.5700     -2.3052\n",
      "==============================================================================\n",
      "const        1.909786\n",
      "cpu_index   -0.007605\n",
      "aqc         -0.000040\n",
      "liquidity    0.011081\n",
      "leverage     0.000162\n",
      "ROA         -2.437613\n",
      "Name: parameter, dtype: float64\n"
     ]
    }
   ],
   "source": [
    "from linearmodels.panel import PooledOLS\n",
    "import statsmodels.api as sm\n",
    "\n",
    "# Assuming df is your DataFrame\n",
    "# Make sure it has columns named 'GVKEY', 'fyear', 'y', 'aqc', 'liquidity', 'leverage'\n",
    "\n",
    "# Set index to create a multi-index similar to panel data\n",
    "df.set_index(['GVKEY', 'fyear'], inplace=True)\n",
    "\n",
    "# Specify independent variables (X)\n",
    "X = [\n",
    "    'cpu_index',\n",
    "    'aqc',\n",
    "    'liquidity',\n",
    "    'leverage',\n",
    "    'ROA'    \n",
    "]\n",
    "\n",
    "# Add constant to the independent variables\n",
    "X = sm.add_constant(df[X])\n",
    "\n",
    "# Fit pooled OLS model\n",
    "model = PooledOLS(df['y'], X)\n",
    "results = model.fit()\n",
    "print(results)\n",
    "# Print coefficients\n",
    "coefficients = results.params\n",
    "print(coefficients)"
   ]
  }
 ],
 "metadata": {
  "kernelspec": {
   "display_name": "Python 3",
   "language": "python",
   "name": "python3"
  },
  "language_info": {
   "codemirror_mode": {
    "name": "ipython",
    "version": 3
   },
   "file_extension": ".py",
   "mimetype": "text/x-python",
   "name": "python",
   "nbconvert_exporter": "python",
   "pygments_lexer": "ipython3",
   "version": "3.11.4"
  }
 },
 "nbformat": 4,
 "nbformat_minor": 2
}
