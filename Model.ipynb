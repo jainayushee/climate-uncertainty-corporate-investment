{
 "cells": [
  {
   "cell_type": "code",
   "execution_count": 147,
   "metadata": {},
   "outputs": [],
   "source": [
    "import pandas as pd\n",
    "\n",
    "df = pd.read_csv(\"final_imputed_dataset1.csv\")"
   ]
  },
  {
   "cell_type": "code",
   "execution_count": 148,
   "metadata": {},
   "outputs": [
    {
     "data": {
      "text/plain": [
       "Unnamed: 0       0\n",
       "GVKEY            0\n",
       "datadate         0\n",
       "fyear            0\n",
       "indfmt           0\n",
       "consol           0\n",
       "popsrc           0\n",
       "datafmt          0\n",
       "conm             0\n",
       "curcd            0\n",
       "aco              0\n",
       "act              0\n",
       "aqc              0\n",
       "at               0\n",
       "capx             0\n",
       "ceq              0\n",
       "ebit             0\n",
       "icapt            0\n",
       "lct              0\n",
       "ni               0\n",
       "revt             0\n",
       "seq              0\n",
       "xrd           2322\n",
       "xrdp          2339\n",
       "costat           0\n",
       "sic              0\n",
       "dtype: int64"
      ]
     },
     "execution_count": 148,
     "metadata": {},
     "output_type": "execute_result"
    }
   ],
   "source": [
    "df.isnull().sum()"
   ]
  },
  {
   "cell_type": "code",
   "execution_count": 149,
   "metadata": {},
   "outputs": [],
   "source": [
    "# Calculate y = capx/at\n",
    "df['y'] = df['capx'] / df['at']\n",
    "\n",
    "# Calculate liquidity = act/lct\n",
    "df['liquidity'] = df['act'] / df['lct']\n",
    "\n",
    "# Calculate leverage = lct/ceq\n",
    "df['leverage'] = df['lct'] / df['ceq']\n",
    "\n",
    "# Assign size = at\n",
    "df['size'] = df['at']\n",
    "\n",
    "# Calculate roa = ni/at\n",
    "df['roa'] = df['ni'] / df['at']\n",
    "\n",
    "df['prev_inv'] = df['y'].shift(-1)\n",
    "\n",
    "df['prev_year_at'] = df['at'].shift(1)\n",
    "\n",
    "# Calculate the growth rate\n",
    "df['asset_growth'] = df['at'] / df['prev_year_at']\n",
    "\n",
    "# Drop the 'prev_year_at' column if not needed anymore\n",
    "df.drop(columns=['prev_year_at'], inplace=True)\n"
   ]
  },
  {
   "cell_type": "code",
   "execution_count": 150,
   "metadata": {},
   "outputs": [
    {
     "data": {
      "text/plain": [
       "Unnamed: 0         0\n",
       "GVKEY              0\n",
       "datadate           0\n",
       "fyear              0\n",
       "indfmt             0\n",
       "consol             0\n",
       "popsrc             0\n",
       "datafmt            0\n",
       "conm               0\n",
       "curcd              0\n",
       "aco                0\n",
       "act                0\n",
       "aqc                0\n",
       "at                 0\n",
       "capx               0\n",
       "ceq                0\n",
       "ebit               0\n",
       "icapt              0\n",
       "lct                0\n",
       "ni                 0\n",
       "revt               0\n",
       "seq                0\n",
       "xrd             2322\n",
       "xrdp            2339\n",
       "costat             0\n",
       "sic                0\n",
       "y                  0\n",
       "liquidity          0\n",
       "leverage           0\n",
       "size               0\n",
       "roa                0\n",
       "prev_inv           1\n",
       "asset_growth       1\n",
       "dtype: int64"
      ]
     },
     "execution_count": 150,
     "metadata": {},
     "output_type": "execute_result"
    }
   ],
   "source": [
    "df.isnull().sum()"
   ]
  },
  {
   "cell_type": "code",
   "execution_count": 151,
   "metadata": {},
   "outputs": [],
   "source": [
    "df = df[(df['fyear'] >= 2000) & (df['fyear'] <= 2021)]"
   ]
  },
  {
   "cell_type": "code",
   "execution_count": 152,
   "metadata": {},
   "outputs": [
    {
     "data": {
      "text/plain": [
       "Unnamed: 0         0\n",
       "GVKEY              0\n",
       "datadate           0\n",
       "fyear              0\n",
       "indfmt             0\n",
       "consol             0\n",
       "popsrc             0\n",
       "datafmt            0\n",
       "conm               0\n",
       "curcd              0\n",
       "aco                0\n",
       "act                0\n",
       "aqc                0\n",
       "at                 0\n",
       "capx               0\n",
       "ceq                0\n",
       "ebit               0\n",
       "icapt              0\n",
       "lct                0\n",
       "ni                 0\n",
       "revt               0\n",
       "seq                0\n",
       "xrd             2128\n",
       "xrdp            2141\n",
       "costat             0\n",
       "sic                0\n",
       "y                  0\n",
       "liquidity          0\n",
       "leverage           0\n",
       "size               0\n",
       "roa                0\n",
       "prev_inv           0\n",
       "asset_growth       0\n",
       "dtype: int64"
      ]
     },
     "execution_count": 152,
     "metadata": {},
     "output_type": "execute_result"
    }
   ],
   "source": [
    "df.isnull().sum()"
   ]
  },
  {
   "cell_type": "code",
   "execution_count": 153,
   "metadata": {},
   "outputs": [
    {
     "name": "stdout",
     "output_type": "stream",
     "text": [
      "    year   cpu_index\n",
      "0   1987   59.666897\n",
      "1   1988   65.722413\n",
      "2   1989   76.697151\n",
      "3   1990   94.779705\n",
      "4   1991   80.746618\n",
      "5   1992   88.297105\n",
      "6   1993   78.883753\n",
      "7   1994   70.176454\n",
      "8   1995   83.972636\n",
      "9   1996   66.936481\n",
      "10  1997   60.388895\n",
      "11  1998   57.564906\n",
      "12  1999   58.748100\n",
      "13  2000   62.448747\n",
      "14  2001   93.647460\n",
      "15  2002   88.280674\n",
      "16  2003   67.846581\n",
      "17  2004   65.208485\n",
      "18  2005   66.038375\n",
      "19  2006   67.521463\n",
      "20  2007  107.765643\n",
      "21  2008   97.135520\n",
      "22  2009   99.128977\n",
      "23  2010  112.572259\n",
      "24  2011  114.578606\n",
      "25  2012  100.094996\n",
      "26  2013   77.565805\n",
      "27  2014   83.167437\n",
      "28  2015   92.614515\n",
      "29  2016  120.715749\n",
      "30  2017  169.765549\n",
      "31  2018  143.290591\n",
      "32  2019  192.001778\n",
      "33  2020  218.634176\n",
      "34  2021  215.384017\n",
      "35  2022  225.413245\n",
      "36  2023  221.172666\n"
     ]
    }
   ],
   "source": [
    "# adding cpu \n",
    "# Assuming df_cpu1 is your DataFrame containing the dataset\n",
    "df_cpu1 = pd.read_csv('CPU index.csv')\n",
    "# Convert 'date' column to datetime format with custom date parser\n",
    "df_cpu1['date'] = pd.to_datetime(df_cpu1['date'], format='%b-%y')\n",
    "\n",
    "# Extract year from 'date' column\n",
    "df_cpu1['year'] = df_cpu1['date'].dt.year\n",
    "\n",
    "# Drop the 'old_cpu_index' column\n",
    "df_cpu1.drop(columns='old_cpu_index', inplace=True)\n",
    "\n",
    "# Group by year and compute average cpu_index\n",
    "average_cpu_index = df_cpu1.groupby('year')['cpu_index'].mean().reset_index()\n",
    "\n",
    "# Verify the result\n",
    "print(average_cpu_index)"
   ]
  },
  {
   "cell_type": "code",
   "execution_count": 154,
   "metadata": {},
   "outputs": [],
   "source": [
    "combined_data = pd.merge(df, average_cpu_index, left_on='fyear', right_on='year', how='inner')"
   ]
  },
  {
   "cell_type": "code",
   "execution_count": 155,
   "metadata": {},
   "outputs": [
    {
     "data": {
      "text/plain": [
       "(6072, 35)"
      ]
     },
     "execution_count": 155,
     "metadata": {},
     "output_type": "execute_result"
    }
   ],
   "source": [
    "combined_data.shape"
   ]
  },
  {
   "cell_type": "code",
   "execution_count": 156,
   "metadata": {},
   "outputs": [
    {
     "data": {
      "text/plain": [
       "GVKEY\n",
       "1075      22\n",
       "12540     22\n",
       "14225     22\n",
       "13824     22\n",
       "13714     22\n",
       "          ..\n",
       "6730      22\n",
       "6733      22\n",
       "6774      22\n",
       "6829      22\n",
       "126721    22\n",
       "Name: count, Length: 276, dtype: int64"
      ]
     },
     "execution_count": 156,
     "metadata": {},
     "output_type": "execute_result"
    }
   ],
   "source": [
    "combined_data[\"GVKEY\"].value_counts()"
   ]
  },
  {
   "cell_type": "code",
   "execution_count": 157,
   "metadata": {},
   "outputs": [],
   "source": [
    "X = combined_data[['liquidity', 'leverage', 'roa', 'icapt', 'aqc', 'prev_inv', 'cpu_index', 'asset_growth']]\n",
    "y = combined_data['y']"
   ]
  },
  {
   "cell_type": "code",
   "execution_count": 158,
   "metadata": {},
   "outputs": [
    {
     "data": {
      "image/png": "[encoded data removed]",
      "text/plain": [
       "<Figure size 1000x800 with 2 Axes>"
      ]
     },
     "metadata": {},
     "output_type": "display_data"
    }
   ],
   "source": [
    "import seaborn as sns\n",
    "import matplotlib.pyplot as plt\n",
    "\n",
    "# Compute the correlation matrix\n",
    "correlation_matrix = X.corr()\n",
    "\n",
    "# Create a heatmap\n",
    "plt.figure(figsize=(10, 8))\n",
    "sns.heatmap(correlation_matrix, annot=True, cmap='coolwarm', fmt=\".2f\", vmin=-1, vmax=1)\n",
    "plt.title('Correlation Heatmap of Independent Variables')\n",
    "plt.xlabel('Independent Variables')\n",
    "plt.ylabel('Independent Variables')\n",
    "plt.show()\n"
   ]
  },
  {
   "cell_type": "code",
   "execution_count": 159,
   "metadata": {},
   "outputs": [],
   "source": [
    "import numpy as np\n",
    "X = X.applymap(lambda x: np.log(x) if x > 0 else x)\n",
    "y = np.log(combined_data['y'])"
   ]
  },
  {
   "cell_type": "code",
   "execution_count": 160,
   "metadata": {},
   "outputs": [
    {
     "data": {
      "text/html": [
       "<div>\n",
       "<style scoped>\n",
       "    .dataframe tbody tr th:only-of-type {\n",
       "        vertical-align: middle;\n",
       "    }\n",
       "\n",
       "    .dataframe tbody tr th {\n",
       "        vertical-align: top;\n",
       "    }\n",
       "\n",
       "    .dataframe thead th {\n",
       "        text-align: right;\n",
       "    }\n",
       "</style>\n",
       "<table border=\"1\" class=\"dataframe\">\n",
       "  <thead>\n",
       "    <tr style=\"text-align: right;\">\n",
       "      <th></th>\n",
       "      <th>liquidity</th>\n",
       "      <th>leverage</th>\n",
       "      <th>roa</th>\n",
       "      <th>icapt</th>\n",
       "      <th>aqc</th>\n",
       "      <th>prev_inv</th>\n",
       "      <th>cpu_index</th>\n",
       "      <th>asset_growth</th>\n",
       "    </tr>\n",
       "  </thead>\n",
       "  <tbody>\n",
       "    <tr>\n",
       "      <th>0</th>\n",
       "      <td>-0.405825</td>\n",
       "      <td>-0.693197</td>\n",
       "      <td>-3.163223</td>\n",
       "      <td>8.375122</td>\n",
       "      <td>0.000000</td>\n",
       "      <td>-2.037374</td>\n",
       "      <td>4.134346</td>\n",
       "      <td>0.078636</td>\n",
       "    </tr>\n",
       "    <tr>\n",
       "      <th>1</th>\n",
       "      <td>0.540221</td>\n",
       "      <td>-0.690331</td>\n",
       "      <td>-1.702159</td>\n",
       "      <td>9.174431</td>\n",
       "      <td>0.000000</td>\n",
       "      <td>-2.819547</td>\n",
       "      <td>4.134346</td>\n",
       "      <td>0.054608</td>\n",
       "    </tr>\n",
       "    <tr>\n",
       "      <th>2</th>\n",
       "      <td>0.775244</td>\n",
       "      <td>-0.952044</td>\n",
       "      <td>-1.769399</td>\n",
       "      <td>8.375547</td>\n",
       "      <td>0.000000</td>\n",
       "      <td>-2.118500</td>\n",
       "      <td>4.134346</td>\n",
       "      <td>0.275756</td>\n",
       "    </tr>\n",
       "    <tr>\n",
       "      <th>3</th>\n",
       "      <td>0.272252</td>\n",
       "      <td>-0.718890</td>\n",
       "      <td>-4.198557</td>\n",
       "      <td>8.622022</td>\n",
       "      <td>5.138149</td>\n",
       "      <td>-2.434787</td>\n",
       "      <td>4.134346</td>\n",
       "      <td>0.004241</td>\n",
       "    </tr>\n",
       "    <tr>\n",
       "      <th>4</th>\n",
       "      <td>0.390569</td>\n",
       "      <td>-0.296824</td>\n",
       "      <td>-2.719636</td>\n",
       "      <td>9.521348</td>\n",
       "      <td>7.833204</td>\n",
       "      <td>-3.319816</td>\n",
       "      <td>4.134346</td>\n",
       "      <td>0.067703</td>\n",
       "    </tr>\n",
       "    <tr>\n",
       "      <th>...</th>\n",
       "      <td>...</td>\n",
       "      <td>...</td>\n",
       "      <td>...</td>\n",
       "      <td>...</td>\n",
       "      <td>...</td>\n",
       "      <td>...</td>\n",
       "      <td>...</td>\n",
       "      <td>...</td>\n",
       "    </tr>\n",
       "    <tr>\n",
       "      <th>6067</th>\n",
       "      <td>0.744100</td>\n",
       "      <td>0.010947</td>\n",
       "      <td>-3.010261</td>\n",
       "      <td>9.646787</td>\n",
       "      <td>0.000000</td>\n",
       "      <td>-4.232885</td>\n",
       "      <td>5.372423</td>\n",
       "      <td>0.077684</td>\n",
       "    </tr>\n",
       "    <tr>\n",
       "      <th>6068</th>\n",
       "      <td>0.146515</td>\n",
       "      <td>-0.528350</td>\n",
       "      <td>-2.713803</td>\n",
       "      <td>8.008675</td>\n",
       "      <td>6.019369</td>\n",
       "      <td>-5.055720</td>\n",
       "      <td>5.372423</td>\n",
       "      <td>0.066040</td>\n",
       "    </tr>\n",
       "    <tr>\n",
       "      <th>6069</th>\n",
       "      <td>0.454632</td>\n",
       "      <td>-0.833129</td>\n",
       "      <td>-3.560142</td>\n",
       "      <td>8.723540</td>\n",
       "      <td>5.261135</td>\n",
       "      <td>-4.485724</td>\n",
       "      <td>5.372423</td>\n",
       "      <td>-0.053809</td>\n",
       "    </tr>\n",
       "    <tr>\n",
       "      <th>6070</th>\n",
       "      <td>0.887842</td>\n",
       "      <td>-1.746016</td>\n",
       "      <td>-2.524887</td>\n",
       "      <td>8.883677</td>\n",
       "      <td>6.394969</td>\n",
       "      <td>-2.896892</td>\n",
       "      <td>5.372423</td>\n",
       "      <td>0.047113</td>\n",
       "    </tr>\n",
       "    <tr>\n",
       "      <th>6071</th>\n",
       "      <td>0.483246</td>\n",
       "      <td>-1.626641</td>\n",
       "      <td>-3.478337</td>\n",
       "      <td>9.380876</td>\n",
       "      <td>8.222366</td>\n",
       "      <td>-5.043495</td>\n",
       "      <td>5.372423</td>\n",
       "      <td>1.043074</td>\n",
       "    </tr>\n",
       "  </tbody>\n",
       "</table>\n",
       "<p>6072 rows × 8 columns</p>\n",
       "</div>"
      ],
      "text/plain": [
       "      liquidity  leverage       roa     icapt       aqc  prev_inv  cpu_index  \\\n",
       "0     -0.405825 -0.693197 -3.163223  8.375122  0.000000 -2.037374   4.134346   \n",
       "1      0.540221 -0.690331 -1.702159  9.174431  0.000000 -2.819547   4.134346   \n",
       "2      0.775244 -0.952044 -1.769399  8.375547  0.000000 -2.118500   4.134346   \n",
       "3      0.272252 -0.718890 -4.198557  8.622022  5.138149 -2.434787   4.134346   \n",
       "4      0.390569 -0.296824 -2.719636  9.521348  7.833204 -3.319816   4.134346   \n",
       "...         ...       ...       ...       ...       ...       ...        ...   \n",
       "6067   0.744100  0.010947 -3.010261  9.646787  0.000000 -4.232885   5.372423   \n",
       "6068   0.146515 -0.528350 -2.713803  8.008675  6.019369 -5.055720   5.372423   \n",
       "6069   0.454632 -0.833129 -3.560142  8.723540  5.261135 -4.485724   5.372423   \n",
       "6070   0.887842 -1.746016 -2.524887  8.883677  6.394969 -2.896892   5.372423   \n",
       "6071   0.483246 -1.626641 -3.478337  9.380876  8.222366 -5.043495   5.372423   \n",
       "\n",
       "      asset_growth  \n",
       "0         0.078636  \n",
       "1         0.054608  \n",
       "2         0.275756  \n",
       "3         0.004241  \n",
       "4         0.067703  \n",
       "...            ...  \n",
       "6067      0.077684  \n",
       "6068      0.066040  \n",
       "6069     -0.053809  \n",
       "6070      0.047113  \n",
       "6071      1.043074  \n",
       "\n",
       "[6072 rows x 8 columns]"
      ]
     },
     "execution_count": 160,
     "metadata": {},
     "output_type": "execute_result"
    }
   ],
   "source": [
    "X"
   ]
  },
  {
   "cell_type": "code",
   "execution_count": 161,
   "metadata": {},
   "outputs": [
    {
     "data": {
      "text/plain": [
       "liquidity       0\n",
       "leverage        0\n",
       "roa             0\n",
       "icapt           0\n",
       "aqc             0\n",
       "prev_inv        0\n",
       "cpu_index       0\n",
       "asset_growth    0\n",
       "dtype: int64"
      ]
     },
     "execution_count": 161,
     "metadata": {},
     "output_type": "execute_result"
    }
   ],
   "source": [
    "X.isnull().sum()"
   ]
  },
  {
   "cell_type": "code",
   "execution_count": 162,
   "metadata": {},
   "outputs": [
    {
     "data": {
      "text/plain": [
       "(6072, 8)"
      ]
     },
     "execution_count": 162,
     "metadata": {},
     "output_type": "execute_result"
    }
   ],
   "source": [
    "X.shape"
   ]
  },
  {
   "cell_type": "code",
   "execution_count": 163,
   "metadata": {},
   "outputs": [
    {
     "data": {
      "text/plain": [
       "liquidity       0\n",
       "leverage        0\n",
       "roa             0\n",
       "icapt           0\n",
       "aqc             0\n",
       "prev_inv        0\n",
       "cpu_index       0\n",
       "asset_growth    0\n",
       "dtype: int64"
      ]
     },
     "execution_count": 163,
     "metadata": {},
     "output_type": "execute_result"
    }
   ],
   "source": [
    "X.isnull().sum()"
   ]
  },
  {
   "cell_type": "code",
   "execution_count": 164,
   "metadata": {},
   "outputs": [
    {
     "name": "stdout",
     "output_type": "stream",
     "text": [
      "                            OLS Regression Results                            \n",
      "==============================================================================\n",
      "Dep. Variable:                      y   R-squared:                       0.817\n",
      "Model:                            OLS   Adj. R-squared:                  0.816\n",
      "Method:                 Least Squares   F-statistic:                     3376.\n",
      "Date:                Sun, 03 Mar 2024   Prob (F-statistic):               0.00\n",
      "Time:                        16:12:41   Log-Likelihood:                -2173.6\n",
      "No. Observations:                6072   AIC:                             4365.\n",
      "Df Residuals:                    6063   BIC:                             4426.\n",
      "Df Model:                           8                                         \n",
      "Covariance Type:            nonrobust                                         \n",
      "================================================================================\n",
      "                   coef    std err          t      P>|t|      [0.025      0.975]\n",
      "--------------------------------------------------------------------------------\n",
      "const            0.0522      0.059      0.889      0.374      -0.063       0.167\n",
      "liquidity       -0.0387      0.008     -4.685      0.000      -0.055      -0.023\n",
      "leverage       4.31e-05      0.000      0.264      0.792      -0.000       0.000\n",
      "roa              0.0171      0.004      3.873      0.000       0.008       0.026\n",
      "icapt           -0.0028      0.002     -1.401      0.161      -0.007       0.001\n",
      "aqc              0.0001   5.37e-05      2.329      0.020    1.98e-05       0.000\n",
      "prev_inv         0.8846      0.006    155.741      0.000       0.873       0.896\n",
      "cpu_index       -0.0650      0.012     -5.267      0.000      -0.089      -0.041\n",
      "asset_growth    -0.2833      0.022    -13.026      0.000      -0.326      -0.241\n",
      "==============================================================================\n",
      "Omnibus:                      725.729   Durbin-Watson:                   1.813\n",
      "Prob(Omnibus):                  0.000   Jarque-Bera (JB):             5395.300\n",
      "Skew:                           0.320   Prob(JB):                         0.00\n",
      "Kurtosis:                       7.573   Cond. No.                     1.13e+03\n",
      "==============================================================================\n",
      "\n",
      "Notes:\n",
      "[1] Standard Errors assume that the covariance matrix of the errors is correctly specified.\n",
      "[2] The condition number is large, 1.13e+03. This might indicate that there are\n",
      "strong multicollinearity or other numerical problems.\n"
     ]
    }
   ],
   "source": [
    "import statsmodels.api as sm\n",
    "\n",
    "X = sm.add_constant(X)\n",
    "\n",
    "model = sm.OLS(y, X).fit()\n",
    "\n",
    "print(model.summary())"
   ]
  },
  {
   "cell_type": "markdown",
   "metadata": {},
   "source": [
    "**t-values**:\n",
    "   - t-values represent the ratio of the estimated coefficient to its standard error.\n",
    "   - They indicate the significance of the estimated coefficient.\n",
    "   - Larger absolute t-values (in either direction) suggest greater evidence against the null hypothesis that the coefficient is zero.\n",
    "   \n",
    "**P-values (P>|t|)**:\n",
    "   - P-values represent the probability of observing the estimated coefficient (or more extreme) if the null hypothesis (that the coefficient is zero) is true.\n",
    "   - Small p-values (typically less than a chosen significance level, such as 0.05) suggest that the coefficient is statistically significant.\n",
    "   - In this output, all p-values are very close to zero (0.000), indicating that all coefficients are statistically significant at conventional significance levels (e.g., 0.05).\n",
    "   \n",
    "**Confidence Intervals ([0.025 0.975])**:\n",
    "   - Confidence intervals provide a range of plausible values for the true population parameter (the coefficient) based on the sample data.\n",
    "   - They are typically constructed around the estimated coefficient and provide a sense of the precision of the estimate.\n",
    "   - The confidence interval is calculated as the estimated coefficient plus or minus a margin of error.\n",
    "   - In this output, the confidence intervals indicate the range within which we are reasonably confident the true coefficients lie."
   ]
  },
  {
   "cell_type": "markdown",
   "metadata": {},
   "source": [
    "**R-squared (or Adjusted R-squared) Test:**\n",
    "R-squared measures the proportion of variance in the dependent variable that is explained by the independent variables in the model.\n",
    "Adjusted R-squared adjusts for the number of independent variables in the model, providing a more conservative measure of model fit.\n",
    "Both R-squared and Adjusted R-squared range from 0 to 1, with higher values indicating better fit."
   ]
  },
  {
   "cell_type": "code",
   "execution_count": 165,
   "metadata": {},
   "outputs": [
    {
     "name": "stdout",
     "output_type": "stream",
     "text": [
      "R-squared: 0.8166469540631469\n",
      "Adjusted R-squared: 0.8164050236050412\n"
     ]
    }
   ],
   "source": [
    "# Calculate R-squared\n",
    "r_squared = model.rsquared\n",
    "print(\"R-squared:\", r_squared)\n",
    "\n",
    "# Calculate Adjusted R-squared\n",
    "adjusted_r_squared = model.rsquared_adj\n",
    "print(\"Adjusted R-squared:\", adjusted_r_squared)\n"
   ]
  },
  {
   "cell_type": "markdown",
   "metadata": {},
   "source": [
    "The F-test assesses the overall significance of the model by comparing the explained variance to the unexplained variance.\n",
    "A significant F-test indicates that at least one independent variable has a nonzero coefficient, suggesting that the model as a whole is significant."
   ]
  },
  {
   "cell_type": "code",
   "execution_count": 166,
   "metadata": {},
   "outputs": [
    {
     "name": "stdout",
     "output_type": "stream",
     "text": [
      "F-statistic: 3375.544197524608\n",
      "p-value: 0.0\n"
     ]
    }
   ],
   "source": [
    "# Get F-statistic and associated p-value\n",
    "f_statistic = model.fvalue\n",
    "p_value = model.f_pvalue\n",
    "\n",
    "print(\"F-statistic:\", f_statistic)\n",
    "print(\"p-value:\", p_value)\n"
   ]
  }
 ],
 "metadata": {
  "kernelspec": {
   "display_name": "Python 3",
   "language": "python",
   "name": "python3"
  },
  "language_info": {
   "codemirror_mode": {
    "name": "ipython",
    "version": 3
   },
   "file_extension": ".py",
   "mimetype": "text/x-python",
   "name": "python",
   "nbconvert_exporter": "python",
   "pygments_lexer": "ipython3",
   "version": "3.11.4"
  }
 },
 "nbformat": 4,
 "nbformat_minor": 2
}
