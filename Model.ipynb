{
 "cells": [
  {
   "cell_type": "code",
   "execution_count": 24,
   "metadata": {},
   "outputs": [],
   "source": [
    "import pandas as pd\n",
    "from sklearn.preprocessing import StandardScaler\n",
    "import numpy as np\n",
    "\n",
    "df = pd.read_csv(\"data/imputed_dataset.csv\")"
   ]
  },
  {
   "cell_type": "code",
   "execution_count": 25,
   "metadata": {},
   "outputs": [],
   "source": [
    "df = df[(df['fyear'] >= 2000) & (df['fyear'] <= 2023)]\n",
    "df = df.dropna(subset=['prev_inv'])"
   ]
  },
  {
   "cell_type": "code",
   "execution_count": 26,
   "metadata": {},
   "outputs": [],
   "source": [
    "X = df[['liquidity', 'leverage', 'roa', 'icapt', 'aqc', 'prev_inv', 'cpu_index', 'asset_growth']]\n",
    "y = df['y']"
   ]
  },
  {
   "cell_type": "code",
   "execution_count": 27,
   "metadata": {},
   "outputs": [],
   "source": [
    "X = X.applymap(lambda x: np.log(x) if x > 0 else x)\n",
    "y = np.log(df['y'])"
   ]
  },
  {
   "cell_type": "code",
   "execution_count": 28,
   "metadata": {},
   "outputs": [],
   "source": [
    "scaler = StandardScaler()\n",
    "scaler.fit(X)\n",
    "X_scaled = scaler.transform(X)"
   ]
  },
  {
   "cell_type": "code",
   "execution_count": 29,
   "metadata": {},
   "outputs": [
    {
     "data": {
      "text/html": [
       "<div>\n",
       "<style scoped>\n",
       "    .dataframe tbody tr th:only-of-type {\n",
       "        vertical-align: middle;\n",
       "    }\n",
       "\n",
       "    .dataframe tbody tr th {\n",
       "        vertical-align: top;\n",
       "    }\n",
       "\n",
       "    .dataframe thead th {\n",
       "        text-align: right;\n",
       "    }\n",
       "</style>\n",
       "<table border=\"1\" class=\"dataframe\">\n",
       "  <thead>\n",
       "    <tr style=\"text-align: right;\">\n",
       "      <th></th>\n",
       "      <th>liquidity</th>\n",
       "      <th>leverage</th>\n",
       "      <th>roa</th>\n",
       "      <th>icapt</th>\n",
       "      <th>aqc</th>\n",
       "      <th>prev_inv</th>\n",
       "      <th>cpu_index</th>\n",
       "      <th>asset_growth</th>\n",
       "    </tr>\n",
       "  </thead>\n",
       "  <tbody>\n",
       "    <tr>\n",
       "      <th>276</th>\n",
       "      <td>-0.405825</td>\n",
       "      <td>-0.693197</td>\n",
       "      <td>-3.163223</td>\n",
       "      <td>8.375122</td>\n",
       "      <td>0.000000</td>\n",
       "      <td>-2.037374</td>\n",
       "      <td>4.134346</td>\n",
       "      <td>0.078636</td>\n",
       "    </tr>\n",
       "    <tr>\n",
       "      <th>277</th>\n",
       "      <td>0.540221</td>\n",
       "      <td>-0.690331</td>\n",
       "      <td>-1.702159</td>\n",
       "      <td>9.174431</td>\n",
       "      <td>0.000000</td>\n",
       "      <td>-2.904557</td>\n",
       "      <td>4.134346</td>\n",
       "      <td>0.054608</td>\n",
       "    </tr>\n",
       "    <tr>\n",
       "      <th>278</th>\n",
       "      <td>0.775244</td>\n",
       "      <td>-0.952044</td>\n",
       "      <td>-1.769399</td>\n",
       "      <td>8.375547</td>\n",
       "      <td>0.000000</td>\n",
       "      <td>-2.118500</td>\n",
       "      <td>4.134346</td>\n",
       "      <td>0.275756</td>\n",
       "    </tr>\n",
       "    <tr>\n",
       "      <th>279</th>\n",
       "      <td>0.272252</td>\n",
       "      <td>-0.718890</td>\n",
       "      <td>-4.198557</td>\n",
       "      <td>8.622022</td>\n",
       "      <td>5.138149</td>\n",
       "      <td>-2.434787</td>\n",
       "      <td>4.134346</td>\n",
       "      <td>0.004241</td>\n",
       "    </tr>\n",
       "    <tr>\n",
       "      <th>280</th>\n",
       "      <td>0.390569</td>\n",
       "      <td>-0.296824</td>\n",
       "      <td>-2.719636</td>\n",
       "      <td>9.521348</td>\n",
       "      <td>7.833204</td>\n",
       "      <td>-3.319816</td>\n",
       "      <td>4.134346</td>\n",
       "      <td>0.067703</td>\n",
       "    </tr>\n",
       "  </tbody>\n",
       "</table>\n",
       "</div>"
      ],
      "text/plain": [
       "     liquidity  leverage       roa     icapt       aqc  prev_inv  cpu_index  \\\n",
       "276  -0.405825 -0.693197 -3.163223  8.375122  0.000000 -2.037374   4.134346   \n",
       "277   0.540221 -0.690331 -1.702159  9.174431  0.000000 -2.904557   4.134346   \n",
       "278   0.775244 -0.952044 -1.769399  8.375547  0.000000 -2.118500   4.134346   \n",
       "279   0.272252 -0.718890 -4.198557  8.622022  5.138149 -2.434787   4.134346   \n",
       "280   0.390569 -0.296824 -2.719636  9.521348  7.833204 -3.319816   4.134346   \n",
       "\n",
       "     asset_growth  \n",
       "276      0.078636  \n",
       "277      0.054608  \n",
       "278      0.275756  \n",
       "279      0.004241  \n",
       "280      0.067703  "
      ]
     },
     "execution_count": 29,
     "metadata": {},
     "output_type": "execute_result"
    }
   ],
   "source": [
    "X.head()"
   ]
  },
  {
   "cell_type": "code",
   "execution_count": 30,
   "metadata": {},
   "outputs": [
    {
     "data": {
      "text/plain": [
       "liquidity       0\n",
       "leverage        0\n",
       "roa             0\n",
       "icapt           0\n",
       "aqc             0\n",
       "prev_inv        0\n",
       "cpu_index       0\n",
       "asset_growth    0\n",
       "dtype: int64"
      ]
     },
     "execution_count": 30,
     "metadata": {},
     "output_type": "execute_result"
    }
   ],
   "source": [
    "X.isnull().sum()"
   ]
  },
  {
   "cell_type": "markdown",
   "metadata": {},
   "source": [
    "# Model 1 without rnd"
   ]
  },
  {
   "cell_type": "code",
   "execution_count": 31,
   "metadata": {},
   "outputs": [
    {
     "name": "stdout",
     "output_type": "stream",
     "text": [
      "                            OLS Regression Results                            \n",
      "==============================================================================\n",
      "Dep. Variable:                      y   R-squared:                       0.728\n",
      "Model:                            OLS   Adj. R-squared:                  0.727\n",
      "Method:                 Least Squares   F-statistic:                     2116.\n",
      "Date:                Sat, 09 Mar 2024   Prob (F-statistic):               0.00\n",
      "Time:                        11:40:03   Log-Likelihood:                -3569.4\n",
      "No. Observations:                6347   AIC:                             7157.\n",
      "Df Residuals:                    6338   BIC:                             7218.\n",
      "Df Model:                           8                                         \n",
      "Covariance Type:            nonrobust                                         \n",
      "================================================================================\n",
      "                   coef    std err          t      P>|t|      [0.025      0.975]\n",
      "--------------------------------------------------------------------------------\n",
      "const            0.4519      0.068      6.633      0.000       0.318       0.585\n",
      "liquidity       -0.0522      0.010     -5.264      0.000      -0.072      -0.033\n",
      "leverage         0.0002      0.000      0.754      0.451      -0.000       0.001\n",
      "roa              0.0194      0.005      3.655      0.000       0.009       0.030\n",
      "icapt            0.0009      0.002      0.383      0.702      -0.004       0.006\n",
      "aqc              0.0001   6.54e-05      2.177      0.030    1.42e-05       0.000\n",
      "prev_inv         0.8274      0.007    122.405      0.000       0.814       0.841\n",
      "cpu_index       -0.2013      0.014    -14.559      0.000      -0.228      -0.174\n",
      "asset_growth    -0.2999      0.026    -11.410      0.000      -0.351      -0.248\n",
      "==============================================================================\n",
      "Omnibus:                     2276.568   Durbin-Watson:                   1.843\n",
      "Prob(Omnibus):                  0.000   Jarque-Bera (JB):            46740.474\n",
      "Skew:                          -1.209   Prob(JB):                         0.00\n",
      "Kurtosis:                      16.072   Cond. No.                     1.08e+03\n",
      "==============================================================================\n",
      "\n",
      "Notes:\n",
      "[1] Standard Errors assume that the covariance matrix of the errors is correctly specified.\n",
      "[2] The condition number is large, 1.08e+03. This might indicate that there are\n",
      "strong multicollinearity or other numerical problems.\n"
     ]
    }
   ],
   "source": [
    "import statsmodels.api as sm\n",
    "\n",
    "X = sm.add_constant(X)\n",
    "\n",
    "model = sm.OLS(y, X).fit()\n",
    "\n",
    "print(model.summary())"
   ]
  },
  {
   "cell_type": "code",
   "execution_count": 32,
   "metadata": {},
   "outputs": [
    {
     "name": "stdout",
     "output_type": "stream",
     "text": [
      "Significant Instruments\n"
     ]
    }
   ],
   "source": [
    "# Check instrument relevance (F-statistic)\n",
    "f_statistic = model.fvalue\n",
    "if f_statistic < 10:\n",
    "    print(\"Warning: Instruments may not be relevant.\")\n",
    "else: \n",
    "    print(\"Significant Instruments\")"
   ]
  },
  {
   "cell_type": "markdown",
   "metadata": {},
   "source": [
    "**t-values**:\n",
    "   - t-values represent the ratio of the estimated coefficient to its standard error.\n",
    "   - They indicate the significance of the estimated coefficient.\n",
    "   - Larger absolute t-values (in either direction) suggest greater evidence against the null hypothesis that the coefficient is zero.\n",
    "   \n",
    "**P-values (P>|t|)**:\n",
    "   - P-values represent the probability of observing the estimated coefficient (or more extreme) if the null hypothesis (that the coefficient is zero) is true.\n",
    "   - Small p-values (typically less than a chosen significance level, such as 0.05) suggest that the coefficient is statistically significant.\n",
    "   - In this output, all p-values are very close to zero (0.000), indicating that all coefficients are statistically significant at conventional significance levels (e.g., 0.05).\n",
    "   \n",
    "**Confidence Intervals ([0.025 0.975])**:\n",
    "   - Confidence intervals provide a range of plausible values for the true population parameter (the coefficient) based on the sample data.\n",
    "   - They are typically constructed around the estimated coefficient and provide a sense of the precision of the estimate.\n",
    "   - The confidence interval is calculated as the estimated coefficient plus or minus a margin of error.\n",
    "   - In this output, the confidence intervals indicate the range within which we are reasonably confident the true coefficients lie."
   ]
  },
  {
   "cell_type": "markdown",
   "metadata": {},
   "source": [
    "**R-squared (or Adjusted R-squared) Test:**\n",
    "R-squared measures the proportion of variance in the dependent variable that is explained by the independent variables in the model.\n",
    "Adjusted R-squared adjusts for the number of independent variables in the model, providing a more conservative measure of model fit.\n",
    "Both R-squared and Adjusted R-squared range from 0 to 1, with higher values indicating better fit."
   ]
  },
  {
   "cell_type": "code",
   "execution_count": 33,
   "metadata": {},
   "outputs": [
    {
     "name": "stdout",
     "output_type": "stream",
     "text": [
      "R-squared: 0.7275620320910468\n",
      "Adjusted R-squared: 0.7272181533054248\n"
     ]
    }
   ],
   "source": [
    "# Calculate R-squared\n",
    "r_squared = model.rsquared\n",
    "print(\"R-squared:\", r_squared)\n",
    "\n",
    "# Calculate Adjusted R-squared\n",
    "adjusted_r_squared = model.rsquared_adj\n",
    "print(\"Adjusted R-squared:\", adjusted_r_squared)\n"
   ]
  },
  {
   "cell_type": "markdown",
   "metadata": {},
   "source": [
    "The F-test assesses the overall significance of the model by comparing the explained variance to the unexplained variance.\n",
    "A significant F-test indicates that at least one independent variable has a nonzero coefficient, suggesting that the model as a whole is significant."
   ]
  },
  {
   "cell_type": "code",
   "execution_count": 34,
   "metadata": {},
   "outputs": [
    {
     "name": "stdout",
     "output_type": "stream",
     "text": [
      "F-statistic: 2115.7514290253553\n",
      "p-value: 0.0\n"
     ]
    }
   ],
   "source": [
    "# Get F-statistic and associated p-value\n",
    "f_statistic = model.fvalue\n",
    "p_value = model.f_pvalue\n",
    "\n",
    "print(\"F-statistic:\", f_statistic)\n",
    "print(\"p-value:\", p_value)\n"
   ]
  },
  {
   "cell_type": "markdown",
   "metadata": {},
   "source": [
    "# Model 2 with change in investment"
   ]
  },
  {
   "cell_type": "code",
   "execution_count": 35,
   "metadata": {},
   "outputs": [
    {
     "name": "stdout",
     "output_type": "stream",
     "text": [
      "      Unnamed: 0   GVKEY    datadate  fyear indfmt consol popsrc datafmt  \\\n",
      "276          276    1075  31/12/2000   2000   INDL      C      D     STD   \n",
      "277          277    1078  31/12/2000   2000   INDL      C      D     STD   \n",
      "278          278    1161  31/12/2000   2000   INDL      C      D     STD   \n",
      "279          279    1209  30/09/2000   2000   INDL      C      D     STD   \n",
      "280          280    1300  31/12/2000   2000   INDL      C      D     STD   \n",
      "...          ...     ...         ...    ...    ...    ...    ...     ...   \n",
      "6618        6618  117768  31/01/2023   2022   INDL      C      D     STD   \n",
      "6619        6619  119314  31/12/2022   2022   INDL      C      D     STD   \n",
      "6620        6620  121077  30/09/2022   2022   INDL      C      D     STD   \n",
      "6621        6621  121718  31/12/2022   2022   INDL      C      D     STD   \n",
      "6622        6622  125595  31/12/2022   2022   INDL      C      D     STD   \n",
      "\n",
      "                              conm curcd  ...   cpu_index  liquidity_delta  \\\n",
      "276     PINNACLE WEST CAPITAL CORP   USD  ...   62.448747              NaN   \n",
      "277            ABBOTT LABORATORIES   USD  ...   62.448747              NaN   \n",
      "278         ADVANCED MICRO DEVICES   USD  ...   62.448747              NaN   \n",
      "279   AIR PRODUCTS & CHEMICALS INC   USD  ...   62.448747              NaN   \n",
      "280    HONEYWELL INTERNATIONAL INC   USD  ...   62.448747              NaN   \n",
      "...                            ...   ...  ...         ...              ...   \n",
      "6618                   NVIDIA CORP   USD  ...  225.413245              NaN   \n",
      "6619          BOOKING HOLDINGS INC   USD  ...  225.413245              NaN   \n",
      "6620                        F5 INC   USD  ...  225.413245              NaN   \n",
      "6621          JUNIPER NETWORKS INC   USD  ...  225.413245              NaN   \n",
      "6622       AKAMAI TECHNOLOGIES INC   USD  ...  225.413245              NaN   \n",
      "\n",
      "      leverage_delta  roa_delta   icapt_delta  aqc_delta  prev_inv_delta  \\\n",
      "276        -0.166452  -0.457686   4337.754711  -4337.797        0.130371   \n",
      "277        -1.214977  -0.319121   9647.091710  -9647.274        0.054773   \n",
      "278        -1.785170  -0.215516   4339.469565  -4339.640        0.120212   \n",
      "279        -0.825625  -0.472276   5552.584983  -5382.200     -170.312384   \n",
      "280        -0.734646  -0.677276  13647.934101 -11125.000    -2522.963841   \n",
      "...              ...        ...           ...        ...             ...   \n",
      "6618       -3.218663  -0.190889  32705.893934 -32657.000      -48.937957   \n",
      "6619        1.181719  -2.925431  15350.879421 -15351.000        0.061406   \n",
      "6620       -0.294052  -0.684169   2741.292941  -2673.443      -67.891482   \n",
      "6621       -1.275362  -0.414048   6194.049500  -6179.500      -14.514665   \n",
      "6622       -2.217420  -0.124739   7338.646933  -6466.619     -871.991756   \n",
      "\n",
      "      asset_growth_delta   y_delta    xrd_delta  \n",
      "276             0.951440 -0.989687          NaN  \n",
      "277             1.001354 -0.968469  1350.936342  \n",
      "278             1.197315 -1.177875   641.659348  \n",
      "279             0.916633 -0.911426   124.307176  \n",
      "280             1.033888 -1.036164   817.966117  \n",
      "...                  ...       ...          ...  \n",
      "6618            0.869950 -0.887484  7338.955490  \n",
      "6619            1.011349 -1.058244          NaN  \n",
      "6620            1.036295 -1.049440   543.361627  \n",
      "6621            0.964142 -1.038208  1036.088731  \n",
      "6622            0.920996 -0.965046   391.378806  \n",
      "\n",
      "[6347 rows x 44 columns]\n"
     ]
    }
   ],
   "source": [
    "df_deltas = df[['liquidity', 'leverage', 'roa', 'icapt', 'aqc', 'prev_inv', 'asset_growth', 'y', 'xrd']].diff(axis=1)\n",
    "df_deltas = df_deltas.add_suffix('_delta')\n",
    "df_combined = pd.concat([df, df_deltas], axis=1)\n",
    "print(df_combined)"
   ]
  },
  {
   "cell_type": "code",
   "execution_count": 36,
   "metadata": {},
   "outputs": [],
   "source": [
    "X2 = df_combined[['leverage_delta', 'roa_delta', 'icapt_delta', 'aqc_delta', 'cpu_index', 'asset_growth_delta', 'prev_inv_delta']]\n",
    "y = df_combined['y']"
   ]
  },
  {
   "cell_type": "code",
   "execution_count": 37,
   "metadata": {},
   "outputs": [
    {
     "data": {
      "text/plain": [
       "leverage_delta        0\n",
       "roa_delta             0\n",
       "icapt_delta           0\n",
       "aqc_delta             0\n",
       "cpu_index             0\n",
       "asset_growth_delta    0\n",
       "prev_inv_delta        0\n",
       "dtype: int64"
      ]
     },
     "execution_count": 37,
     "metadata": {},
     "output_type": "execute_result"
    }
   ],
   "source": [
    "X2.isnull().sum()"
   ]
  },
  {
   "cell_type": "code",
   "execution_count": 38,
   "metadata": {},
   "outputs": [
    {
     "name": "stdout",
     "output_type": "stream",
     "text": [
      "                            OLS Regression Results                            \n",
      "==============================================================================\n",
      "Dep. Variable:                      y   R-squared:                       0.136\n",
      "Model:                            OLS   Adj. R-squared:                  0.135\n",
      "Method:                 Least Squares   F-statistic:                     143.0\n",
      "Date:                Sat, 09 Mar 2024   Prob (F-statistic):          2.07e-196\n",
      "Time:                        11:40:03   Log-Likelihood:                 11896.\n",
      "No. Observations:                6347   AIC:                        -2.378e+04\n",
      "Df Residuals:                    6339   BIC:                        -2.372e+04\n",
      "Df Model:                           7                                         \n",
      "Covariance Type:            nonrobust                                         \n",
      "======================================================================================\n",
      "                         coef    std err          t      P>|t|      [0.025      0.975]\n",
      "--------------------------------------------------------------------------------------\n",
      "const                  0.0705      0.001     47.271      0.000       0.068       0.073\n",
      "leverage_delta         0.0032      0.000      9.928      0.000       0.003       0.004\n",
      "roa_delta              0.0032      0.000      9.886      0.000       0.003       0.004\n",
      "icapt_delta            0.0925      0.004     24.553      0.000       0.085       0.100\n",
      "aqc_delta              0.0925      0.004     24.553      0.000       0.085       0.100\n",
      "cpu_index             -0.0001   9.42e-06    -11.515      0.000      -0.000      -9e-05\n",
      "asset_growth_delta    -0.0029      0.001     -4.834      0.000      -0.004      -0.002\n",
      "prev_inv_delta         0.0925      0.004     24.554      0.000       0.085       0.100\n",
      "==============================================================================\n",
      "Omnibus:                     2663.592   Durbin-Watson:                   2.086\n",
      "Prob(Omnibus):                  0.000   Jarque-Bera (JB):            26605.459\n",
      "Skew:                           1.734   Prob(JB):                         0.00\n",
      "Kurtosis:                      12.411   Cond. No.                     6.59e+05\n",
      "==============================================================================\n",
      "\n",
      "Notes:\n",
      "[1] Standard Errors assume that the covariance matrix of the errors is correctly specified.\n",
      "[2] The condition number is large, 6.59e+05. This might indicate that there are\n",
      "strong multicollinearity or other numerical problems.\n"
     ]
    }
   ],
   "source": [
    "X2 = sm.add_constant(X2)\n",
    "\n",
    "model2 = sm.OLS(y, X2).fit()\n",
    "\n",
    "print(model2.summary())"
   ]
  }
 ],
 "metadata": {
  "kernelspec": {
   "display_name": "Python 3",
   "language": "python",
   "name": "python3"
  },
  "language_info": {
   "codemirror_mode": {
    "name": "ipython",
    "version": 3
   },
   "file_extension": ".py",
   "mimetype": "text/x-python",
   "name": "python",
   "nbconvert_exporter": "python",
   "pygments_lexer": "ipython3",
   "version": "3.11.4"
  }
 },
 "nbformat": 4,
 "nbformat_minor": 2
}
