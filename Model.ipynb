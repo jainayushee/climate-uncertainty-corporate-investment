{
 "cells": [
  {
   "cell_type": "code",
   "execution_count": 162,
   "metadata": {},
   "outputs": [],
   "source": [
    "import pandas as pd\n",
    "from sklearn.preprocessing import StandardScaler\n",
    "import numpy as np\n",
    "\n",
    "df = pd.read_csv(\"data/imputed_dataset.csv\")"
   ]
  },
  {
   "cell_type": "code",
   "execution_count": 163,
   "metadata": {},
   "outputs": [],
   "source": [
    "df = df[(df['fyear'] >= 2000) & (df['fyear'] <= 2023)]\n",
    "df = df.dropna(subset=['prev_inv'])"
   ]
  },
  {
   "cell_type": "code",
   "execution_count": 164,
   "metadata": {},
   "outputs": [],
   "source": [
    "X = df[['liquidity', 'leverage', 'roa', 'icapt', 'aqc', 'prev_inv', 'cpu_index', 'asset_growth']]\n",
    "y = df['y']"
   ]
  },
  {
   "cell_type": "code",
   "execution_count": 165,
   "metadata": {},
   "outputs": [],
   "source": [
    "X = X.applymap(lambda x: np.log(x) if x > 0 else x)\n",
    "y = np.log(df['y'])"
   ]
  },
  {
   "cell_type": "code",
   "execution_count": 166,
   "metadata": {},
   "outputs": [],
   "source": [
    "scaler = StandardScaler()\n",
    "scaler.fit(X)\n",
    "X_scaled = scaler.transform(X)"
   ]
  },
  {
   "cell_type": "code",
   "execution_count": 167,
   "metadata": {},
   "outputs": [
    {
     "data": {
      "text/html": [
       "<div>\n",
       "<style scoped>\n",
       "    .dataframe tbody tr th:only-of-type {\n",
       "        vertical-align: middle;\n",
       "    }\n",
       "\n",
       "    .dataframe tbody tr th {\n",
       "        vertical-align: top;\n",
       "    }\n",
       "\n",
       "    .dataframe thead th {\n",
       "        text-align: right;\n",
       "    }\n",
       "</style>\n",
       "<table border=\"1\" class=\"dataframe\">\n",
       "  <thead>\n",
       "    <tr style=\"text-align: right;\">\n",
       "      <th></th>\n",
       "      <th>liquidity</th>\n",
       "      <th>leverage</th>\n",
       "      <th>roa</th>\n",
       "      <th>icapt</th>\n",
       "      <th>aqc</th>\n",
       "      <th>prev_inv</th>\n",
       "      <th>cpu_index</th>\n",
       "      <th>asset_growth</th>\n",
       "    </tr>\n",
       "  </thead>\n",
       "  <tbody>\n",
       "    <tr>\n",
       "      <th>276</th>\n",
       "      <td>-0.405825</td>\n",
       "      <td>-0.693197</td>\n",
       "      <td>-3.163223</td>\n",
       "      <td>8.375122</td>\n",
       "      <td>0.000000</td>\n",
       "      <td>-2.037374</td>\n",
       "      <td>4.134346</td>\n",
       "      <td>0.078636</td>\n",
       "    </tr>\n",
       "    <tr>\n",
       "      <th>277</th>\n",
       "      <td>0.540221</td>\n",
       "      <td>-0.690331</td>\n",
       "      <td>-1.702159</td>\n",
       "      <td>9.174431</td>\n",
       "      <td>0.000000</td>\n",
       "      <td>-2.904557</td>\n",
       "      <td>4.134346</td>\n",
       "      <td>0.054608</td>\n",
       "    </tr>\n",
       "    <tr>\n",
       "      <th>278</th>\n",
       "      <td>0.775244</td>\n",
       "      <td>-0.952044</td>\n",
       "      <td>-1.769399</td>\n",
       "      <td>8.375547</td>\n",
       "      <td>0.000000</td>\n",
       "      <td>-2.118500</td>\n",
       "      <td>4.134346</td>\n",
       "      <td>0.275756</td>\n",
       "    </tr>\n",
       "    <tr>\n",
       "      <th>279</th>\n",
       "      <td>0.272252</td>\n",
       "      <td>-0.718890</td>\n",
       "      <td>-4.198557</td>\n",
       "      <td>8.622022</td>\n",
       "      <td>5.138149</td>\n",
       "      <td>-2.434787</td>\n",
       "      <td>4.134346</td>\n",
       "      <td>0.004241</td>\n",
       "    </tr>\n",
       "    <tr>\n",
       "      <th>280</th>\n",
       "      <td>0.390569</td>\n",
       "      <td>-0.296824</td>\n",
       "      <td>-2.719636</td>\n",
       "      <td>9.521348</td>\n",
       "      <td>7.833204</td>\n",
       "      <td>-3.319816</td>\n",
       "      <td>4.134346</td>\n",
       "      <td>0.067703</td>\n",
       "    </tr>\n",
       "  </tbody>\n",
       "</table>\n",
       "</div>"
      ],
      "text/plain": [
       "     liquidity  leverage       roa     icapt       aqc  prev_inv  cpu_index  \\\n",
       "276  -0.405825 -0.693197 -3.163223  8.375122  0.000000 -2.037374   4.134346   \n",
       "277   0.540221 -0.690331 -1.702159  9.174431  0.000000 -2.904557   4.134346   \n",
       "278   0.775244 -0.952044 -1.769399  8.375547  0.000000 -2.118500   4.134346   \n",
       "279   0.272252 -0.718890 -4.198557  8.622022  5.138149 -2.434787   4.134346   \n",
       "280   0.390569 -0.296824 -2.719636  9.521348  7.833204 -3.319816   4.134346   \n",
       "\n",
       "     asset_growth  \n",
       "276      0.078636  \n",
       "277      0.054608  \n",
       "278      0.275756  \n",
       "279      0.004241  \n",
       "280      0.067703  "
      ]
     },
     "execution_count": 167,
     "metadata": {},
     "output_type": "execute_result"
    }
   ],
   "source": [
    "X.head()"
   ]
  },
  {
   "cell_type": "code",
   "execution_count": 168,
   "metadata": {},
   "outputs": [
    {
     "data": {
      "text/plain": [
       "liquidity       0\n",
       "leverage        0\n",
       "roa             0\n",
       "icapt           0\n",
       "aqc             0\n",
       "prev_inv        0\n",
       "cpu_index       0\n",
       "asset_growth    0\n",
       "dtype: int64"
      ]
     },
     "execution_count": 168,
     "metadata": {},
     "output_type": "execute_result"
    }
   ],
   "source": [
    "X.isnull().sum()"
   ]
  },
  {
   "cell_type": "markdown",
   "metadata": {},
   "source": [
    "# Model 1 without rnd"
   ]
  },
  {
   "cell_type": "code",
   "execution_count": 169,
   "metadata": {},
   "outputs": [
    {
     "name": "stdout",
     "output_type": "stream",
     "text": [
      "                            OLS Regression Results                            \n",
      "==============================================================================\n",
      "Dep. Variable:                      y   R-squared:                       0.728\n",
      "Model:                            OLS   Adj. R-squared:                  0.727\n",
      "Method:                 Least Squares   F-statistic:                     2116.\n",
      "Date:                Fri, 08 Mar 2024   Prob (F-statistic):               0.00\n",
      "Time:                        13:20:15   Log-Likelihood:                -3569.4\n",
      "No. Observations:                6347   AIC:                             7157.\n",
      "Df Residuals:                    6338   BIC:                             7218.\n",
      "Df Model:                           8                                         \n",
      "Covariance Type:            nonrobust                                         \n",
      "================================================================================\n",
      "                   coef    std err          t      P>|t|      [0.025      0.975]\n",
      "--------------------------------------------------------------------------------\n",
      "const            0.4519      0.068      6.633      0.000       0.318       0.585\n",
      "liquidity       -0.0522      0.010     -5.264      0.000      -0.072      -0.033\n",
      "leverage         0.0002      0.000      0.754      0.451      -0.000       0.001\n",
      "roa              0.0194      0.005      3.655      0.000       0.009       0.030\n",
      "icapt            0.0009      0.002      0.383      0.702      -0.004       0.006\n",
      "aqc              0.0001   6.54e-05      2.177      0.030    1.42e-05       0.000\n",
      "prev_inv         0.8274      0.007    122.405      0.000       0.814       0.841\n",
      "cpu_index       -0.2013      0.014    -14.559      0.000      -0.228      -0.174\n",
      "asset_growth    -0.2999      0.026    -11.410      0.000      -0.351      -0.248\n",
      "==============================================================================\n",
      "Omnibus:                     2276.568   Durbin-Watson:                   1.843\n",
      "Prob(Omnibus):                  0.000   Jarque-Bera (JB):            46740.474\n",
      "Skew:                          -1.209   Prob(JB):                         0.00\n",
      "Kurtosis:                      16.072   Cond. No.                     1.08e+03\n",
      "==============================================================================\n",
      "\n",
      "Notes:\n",
      "[1] Standard Errors assume that the covariance matrix of the errors is correctly specified.\n",
      "[2] The condition number is large, 1.08e+03. This might indicate that there are\n",
      "strong multicollinearity or other numerical problems.\n"
     ]
    }
   ],
   "source": [
    "import statsmodels.api as sm\n",
    "\n",
    "X = sm.add_constant(X)\n",
    "\n",
    "model = sm.OLS(y, X).fit()\n",
    "\n",
    "print(model.summary())"
   ]
  },
  {
   "cell_type": "code",
   "execution_count": 170,
   "metadata": {},
   "outputs": [
    {
     "name": "stdout",
     "output_type": "stream",
     "text": [
      "Significant Instruments\n"
     ]
    }
   ],
   "source": [
    "# Check instrument relevance (F-statistic)\n",
    "f_statistic = model.fvalue\n",
    "if f_statistic < 10:\n",
    "    print(\"Warning: Instruments may not be relevant.\")\n",
    "else: \n",
    "    print(\"Significant Instruments\")"
   ]
  },
  {
   "cell_type": "markdown",
   "metadata": {},
   "source": [
    "**t-values**:\n",
    "   - t-values represent the ratio of the estimated coefficient to its standard error.\n",
    "   - They indicate the significance of the estimated coefficient.\n",
    "   - Larger absolute t-values (in either direction) suggest greater evidence against the null hypothesis that the coefficient is zero.\n",
    "   \n",
    "**P-values (P>|t|)**:\n",
    "   - P-values represent the probability of observing the estimated coefficient (or more extreme) if the null hypothesis (that the coefficient is zero) is true.\n",
    "   - Small p-values (typically less than a chosen significance level, such as 0.05) suggest that the coefficient is statistically significant.\n",
    "   - In this output, all p-values are very close to zero (0.000), indicating that all coefficients are statistically significant at conventional significance levels (e.g., 0.05).\n",
    "   \n",
    "**Confidence Intervals ([0.025 0.975])**:\n",
    "   - Confidence intervals provide a range of plausible values for the true population parameter (the coefficient) based on the sample data.\n",
    "   - They are typically constructed around the estimated coefficient and provide a sense of the precision of the estimate.\n",
    "   - The confidence interval is calculated as the estimated coefficient plus or minus a margin of error.\n",
    "   - In this output, the confidence intervals indicate the range within which we are reasonably confident the true coefficients lie."
   ]
  },
  {
   "cell_type": "markdown",
   "metadata": {},
   "source": [
    "**R-squared (or Adjusted R-squared) Test:**\n",
    "R-squared measures the proportion of variance in the dependent variable that is explained by the independent variables in the model.\n",
    "Adjusted R-squared adjusts for the number of independent variables in the model, providing a more conservative measure of model fit.\n",
    "Both R-squared and Adjusted R-squared range from 0 to 1, with higher values indicating better fit."
   ]
  },
  {
   "cell_type": "code",
   "execution_count": 171,
   "metadata": {},
   "outputs": [
    {
     "name": "stdout",
     "output_type": "stream",
     "text": [
      "R-squared: 0.7275620320910468\n",
      "Adjusted R-squared: 0.7272181533054248\n"
     ]
    }
   ],
   "source": [
    "# Calculate R-squared\n",
    "r_squared = model.rsquared\n",
    "print(\"R-squared:\", r_squared)\n",
    "\n",
    "# Calculate Adjusted R-squared\n",
    "adjusted_r_squared = model.rsquared_adj\n",
    "print(\"Adjusted R-squared:\", adjusted_r_squared)\n"
   ]
  },
  {
   "cell_type": "markdown",
   "metadata": {},
   "source": [
    "The F-test assesses the overall significance of the model by comparing the explained variance to the unexplained variance.\n",
    "A significant F-test indicates that at least one independent variable has a nonzero coefficient, suggesting that the model as a whole is significant."
   ]
  },
  {
   "cell_type": "code",
   "execution_count": 172,
   "metadata": {},
   "outputs": [
    {
     "name": "stdout",
     "output_type": "stream",
     "text": [
      "F-statistic: 2115.7514290253553\n",
      "p-value: 0.0\n"
     ]
    }
   ],
   "source": [
    "# Get F-statistic and associated p-value\n",
    "f_statistic = model.fvalue\n",
    "p_value = model.f_pvalue\n",
    "\n",
    "print(\"F-statistic:\", f_statistic)\n",
    "print(\"p-value:\", p_value)\n"
   ]
  },
  {
   "cell_type": "markdown",
   "metadata": {},
   "source": [
    "# Model 2 with R&D"
   ]
  },
  {
   "cell_type": "code",
   "execution_count": 173,
   "metadata": {},
   "outputs": [],
   "source": [
    "df['xrd'].fillna(0, inplace=True)\n",
    "X2 = df[['liquidity', 'leverage', 'roa', 'icapt', 'aqc', 'prev_inv', 'cpu_index', 'asset_growth', 'xrd']]"
   ]
  },
  {
   "cell_type": "code",
   "execution_count": 174,
   "metadata": {},
   "outputs": [
    {
     "name": "stdout",
     "output_type": "stream",
     "text": [
      "                            OLS Regression Results                            \n",
      "==============================================================================\n",
      "Dep. Variable:                      y   R-squared:                       0.556\n",
      "Model:                            OLS   Adj. R-squared:                  0.555\n",
      "Method:                 Least Squares   F-statistic:                     881.2\n",
      "Date:                Fri, 08 Mar 2024   Prob (F-statistic):               0.00\n",
      "Time:                        13:20:15   Log-Likelihood:                -5120.4\n",
      "No. Observations:                6347   AIC:                         1.026e+04\n",
      "Df Residuals:                    6337   BIC:                         1.033e+04\n",
      "Df Model:                           9                                         \n",
      "Covariance Type:            nonrobust                                         \n",
      "================================================================================\n",
      "                   coef    std err          t      P>|t|      [0.025      0.975]\n",
      "--------------------------------------------------------------------------------\n",
      "const           -3.6190      0.024   -147.926      0.000      -3.667      -3.571\n",
      "liquidity       -0.0284      0.005     -5.927      0.000      -0.038      -0.019\n",
      "leverage         0.0004      0.000      1.521      0.128      -0.000       0.001\n",
      "roa             -0.0215      0.058     -0.369      0.712      -0.136       0.093\n",
      "icapt         2.554e-06   2.77e-07      9.207      0.000    2.01e-06     3.1e-06\n",
      "aqc          -2.827e-05   3.59e-06     -7.869      0.000   -3.53e-05   -2.12e-05\n",
      "prev_inv        14.1094      0.173     81.628      0.000      13.771      14.448\n",
      "cpu_index       -0.0024      0.000    -17.159      0.000      -0.003      -0.002\n",
      "asset_growth    -0.0803      0.009     -9.133      0.000      -0.098      -0.063\n",
      "xrd          -2.145e-05   3.44e-06     -6.232      0.000   -2.82e-05   -1.47e-05\n",
      "==============================================================================\n",
      "Omnibus:                     2204.040   Durbin-Watson:                   1.906\n",
      "Prob(Omnibus):                  0.000   Jarque-Bera (JB):            23945.711\n",
      "Skew:                          -1.345   Prob(JB):                         0.00\n",
      "Kurtosis:                      12.128   Cond. No.                     8.56e+05\n",
      "==============================================================================\n",
      "\n",
      "Notes:\n",
      "[1] Standard Errors assume that the covariance matrix of the errors is correctly specified.\n",
      "[2] The condition number is large, 8.56e+05. This might indicate that there are\n",
      "strong multicollinearity or other numerical problems.\n"
     ]
    }
   ],
   "source": [
    "X2 = sm.add_constant(X2)\n",
    "\n",
    "model2 = sm.OLS(y, X2).fit()\n",
    "\n",
    "print(model2.summary())"
   ]
  },
  {
   "cell_type": "markdown",
   "metadata": {},
   "source": [
    "# Model 3 with change in investment"
   ]
  },
  {
   "cell_type": "code",
   "execution_count": 175,
   "metadata": {},
   "outputs": [],
   "source": [
    "df['y'] = df['y'] - df['prev_inv']\n",
    "X3 = df[['liquidity', 'leverage', 'roa', 'icapt', 'aqc', 'cpu_index', 'asset_growth']]\n",
    "y = df['y']"
   ]
  },
  {
   "cell_type": "code",
   "execution_count": 176,
   "metadata": {},
   "outputs": [
    {
     "name": "stdout",
     "output_type": "stream",
     "text": [
      "                            OLS Regression Results                            \n",
      "==============================================================================\n",
      "Dep. Variable:                      y   R-squared:                       0.027\n",
      "Model:                            OLS   Adj. R-squared:                  0.025\n",
      "Method:                 Least Squares   F-statistic:                     24.65\n",
      "Date:                Fri, 08 Mar 2024   Prob (F-statistic):           2.13e-33\n",
      "Time:                        13:20:15   Log-Likelihood:                 14494.\n",
      "No. Observations:                6347   AIC:                        -2.897e+04\n",
      "Df Residuals:                    6339   BIC:                        -2.892e+04\n",
      "Df Model:                           7                                         \n",
      "Covariance Type:            nonrobust                                         \n",
      "================================================================================\n",
      "                   coef    std err          t      P>|t|      [0.025      0.975]\n",
      "--------------------------------------------------------------------------------\n",
      "const            0.0111      0.001     10.963      0.000       0.009       0.013\n",
      "liquidity       -0.0002      0.000     -0.912      0.362      -0.001       0.000\n",
      "leverage      4.935e-06   1.12e-05      0.442      0.658    -1.7e-05    2.68e-05\n",
      "roa             -0.0139      0.003     -5.273      0.000      -0.019      -0.009\n",
      "icapt        -6.451e-09   1.15e-08     -0.562      0.574   -2.89e-08     1.6e-08\n",
      "aqc          -2.143e-07   1.62e-07     -1.321      0.187   -5.32e-07    1.04e-07\n",
      "cpu_index    -6.274e-05   6.25e-06    -10.044      0.000    -7.5e-05   -5.05e-05\n",
      "asset_growth    -0.0021      0.000     -5.145      0.000      -0.003      -0.001\n",
      "==============================================================================\n",
      "Omnibus:                     2396.400   Durbin-Watson:                   1.912\n",
      "Prob(Omnibus):                  0.000   Jarque-Bera (JB):           254727.036\n",
      "Skew:                          -0.828   Prob(JB):                         0.00\n",
      "Kurtosis:                      33.991   Cond. No.                     2.88e+05\n",
      "==============================================================================\n",
      "\n",
      "Notes:\n",
      "[1] Standard Errors assume that the covariance matrix of the errors is correctly specified.\n",
      "[2] The condition number is large, 2.88e+05. This might indicate that there are\n",
      "strong multicollinearity or other numerical problems.\n"
     ]
    }
   ],
   "source": [
    "X3 = sm.add_constant(X3)\n",
    "\n",
    "model3 = sm.OLS(y, X3).fit()\n",
    "\n",
    "print(model3.summary())"
   ]
  }
 ],
 "metadata": {
  "kernelspec": {
   "display_name": "Python 3",
   "language": "python",
   "name": "python3"
  },
  "language_info": {
   "codemirror_mode": {
    "name": "ipython",
    "version": 3
   },
   "file_extension": ".py",
   "mimetype": "text/x-python",
   "name": "python",
   "nbconvert_exporter": "python",
   "pygments_lexer": "ipython3",
   "version": "3.11.4"
  }
 },
 "nbformat": 4,
 "nbformat_minor": 2
}
