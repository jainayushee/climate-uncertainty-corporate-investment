{
 "cells": [
  {
   "cell_type": "code",
   "execution_count": 22,
   "metadata": {},
   "outputs": [],
   "source": [
    "import pandas as pd\n",
    "import numpy as np\n",
    "import matplotlib.pyplot as plt\n",
    "%matplotlib inline\n",
    "import seaborn as sn\n",
    "import warnings\n",
    "warnings.filterwarnings('ignore')"
   ]
  },
  {
   "cell_type": "code",
   "execution_count": 23,
   "metadata": {},
   "outputs": [
    {
     "data": {
      "text/plain": [
       "(11553, 26)"
      ]
     },
     "execution_count": 23,
     "metadata": {},
     "output_type": "execute_result"
    }
   ],
   "source": [
    "df = pd.read_csv('S&PDataset_final.csv')\n",
    "df.shape"
   ]
  },
  {
   "cell_type": "code",
   "execution_count": 24,
   "metadata": {},
   "outputs": [
    {
     "data": {
      "text/plain": [
       "497"
      ]
     },
     "execution_count": 24,
     "metadata": {},
     "output_type": "execute_result"
    }
   ],
   "source": [
    "df['conm'].nunique()"
   ]
  },
  {
   "cell_type": "code",
   "execution_count": 25,
   "metadata": {},
   "outputs": [
    {
     "data": {
      "text/plain": [
       "GVKEY          0\n",
       "datadate       0\n",
       "fyear          0\n",
       "indfmt         0\n",
       "consol         0\n",
       "popsrc         0\n",
       "datafmt        0\n",
       "conm           0\n",
       "curcd          0\n",
       "aco          428\n",
       "act         2081\n",
       "aqc         1079\n",
       "at             0\n",
       "capx         163\n",
       "ceq            0\n",
       "dt          1555\n",
       "ebit           0\n",
       "icapt          2\n",
       "lct         2068\n",
       "ni             0\n",
       "revt           0\n",
       "seq            0\n",
       "xrd         4930\n",
       "xrdp        4965\n",
       "costat         0\n",
       "sic            0\n",
       "dtype: int64"
      ]
     },
     "execution_count": 25,
     "metadata": {},
     "output_type": "execute_result"
    }
   ],
   "source": [
    "df.isnull().sum()"
   ]
  },
  {
   "cell_type": "code",
   "execution_count": 26,
   "metadata": {},
   "outputs": [
    {
     "data": {
      "text/plain": [
       "96"
      ]
     },
     "execution_count": 26,
     "metadata": {},
     "output_type": "execute_result"
    }
   ],
   "source": [
    "# Counting total financial companies\n",
    "\n",
    "rows_with_sic_starting_6 = df[df['sic'].astype(str).str.startswith('6')]\n",
    "grouped_by_gvkey = rows_with_sic_starting_6.groupby('GVKEY')\n",
    "unique_gvkeys = grouped_by_gvkey.groups.keys()\n",
    "len(unique_gvkeys)\n"
   ]
  },
  {
   "cell_type": "code",
   "execution_count": 27,
   "metadata": {},
   "outputs": [
    {
     "data": {
      "text/plain": [
       "95"
      ]
     },
     "execution_count": 27,
     "metadata": {},
     "output_type": "execute_result"
    }
   ],
   "source": [
    "# Counting financial companies that have incomplete data\n",
    "\n",
    "filtered_df = df[~df['fyear'].between(1999, 2022)]\n",
    "filtered_df_starting_6 = filtered_df[filtered_df['sic'].astype(str).str.startswith('6')]\n",
    "grouped_by_gvkey = filtered_df_starting_6.groupby('GVKEY')\n",
    "unique_gvkeys_starting_6 = grouped_by_gvkey.groups.keys()\n",
    "len(unique_gvkeys_starting_6)"
   ]
  },
  {
   "cell_type": "code",
   "execution_count": 28,
   "metadata": {},
   "outputs": [],
   "source": [
    "# Dropping all companies that have incomplete data and financial companies\n",
    "\n",
    "df_within_year_range = df[df['fyear'].between(1999, 2022)]\n",
    "df_no_sic_starting_6 = df_within_year_range[~df_within_year_range['sic'].astype(str).str.startswith('6')]"
   ]
  },
  {
   "cell_type": "code",
   "execution_count": 29,
   "metadata": {},
   "outputs": [
    {
     "name": "stdout",
     "output_type": "stream",
     "text": [
      "Shape:  (8607, 26)\n",
      "Total remaining companies:  399\n"
     ]
    }
   ],
   "source": [
    "print(\"Shape: \", df_no_sic_starting_6.shape)\n",
    "print(\"Total remaining companies: \", df_no_sic_starting_6['conm'].nunique())"
   ]
  },
  {
   "cell_type": "code",
   "execution_count": 30,
   "metadata": {},
   "outputs": [
    {
     "data": {
      "text/plain": [
       "GVKEY          0\n",
       "datadate       0\n",
       "fyear          0\n",
       "indfmt         0\n",
       "consol         0\n",
       "popsrc         0\n",
       "datafmt        0\n",
       "conm           0\n",
       "curcd          0\n",
       "aco            0\n",
       "act          272\n",
       "aqc          796\n",
       "at             0\n",
       "capx          27\n",
       "ceq            0\n",
       "dt           776\n",
       "ebit           0\n",
       "icapt          0\n",
       "lct          260\n",
       "ni             0\n",
       "revt           0\n",
       "seq            0\n",
       "xrd         3024\n",
       "xrdp        3051\n",
       "costat         0\n",
       "sic            0\n",
       "dtype: int64"
      ]
     },
     "execution_count": 30,
     "metadata": {},
     "output_type": "execute_result"
    }
   ],
   "source": [
    "df_no_sic_starting_6.isnull().sum()"
   ]
  },
  {
   "cell_type": "code",
   "execution_count": 31,
   "metadata": {},
   "outputs": [
    {
     "name": "stdout",
     "output_type": "stream",
     "text": [
      "14 companies with missing act and lct values: [2176, 3835, 4839, 5047, 5073, 6669, 8253, 8823, 10519, 11456, 12459, 12635, 25340, 66065]\n"
     ]
    }
   ],
   "source": [
    "# Counting the unique companies that have missing values for total current assets and liabilities\n",
    "\n",
    "grouped_by_gvkey = df_no_sic_starting_6.groupby('GVKEY')\n",
    "\n",
    "missing_act = grouped_by_gvkey['act'].apply(lambda x: x.isnull().sum())\n",
    "missing_lct = grouped_by_gvkey['lct'].apply(lambda x: x.isnull().sum())\n",
    "\n",
    "missing_companies = []\n",
    "\n",
    "for gvkey, count in missing_act.items():\n",
    "    if count != 0 and count > 1:\n",
    "        missing_companies.append(gvkey)\n",
    "\n",
    "print((\"{total} companies with missing act and lct values: {list}\").format(total = len(missing_companies), list = missing_companies))\n"
   ]
  },
  {
   "cell_type": "code",
   "execution_count": 32,
   "metadata": {},
   "outputs": [
    {
     "data": {
      "text/plain": [
       "399"
      ]
     },
     "execution_count": 32,
     "metadata": {},
     "output_type": "execute_result"
    }
   ],
   "source": [
    "df_no_sic_starting_6['GVKEY'].nunique()"
   ]
  },
  {
   "cell_type": "code",
   "execution_count": 33,
   "metadata": {},
   "outputs": [
    {
     "data": {
      "text/plain": [
       "385"
      ]
     },
     "execution_count": 33,
     "metadata": {},
     "output_type": "execute_result"
    }
   ],
   "source": [
    "# Dropping companies with no act or lct values\n",
    "df_final = df_no_sic_starting_6[~df_no_sic_starting_6['GVKEY'].isin(missing_companies)]\n",
    "df_final['GVKEY'].nunique()"
   ]
  },
  {
   "cell_type": "code",
   "execution_count": 34,
   "metadata": {},
   "outputs": [],
   "source": [
    "# Substituing null values for aqcuisitions to 0\n",
    "\n",
    "df_final['aqc'].fillna(0, inplace=True)"
   ]
  },
  {
   "cell_type": "code",
   "execution_count": 35,
   "metadata": {},
   "outputs": [
    {
     "data": {
      "text/plain": [
       "Index(['GVKEY', 'datadate', 'fyear', 'indfmt', 'consol', 'popsrc', 'datafmt',\n",
       "       'conm', 'curcd', 'aco', 'act', 'aqc', 'at', 'capx', 'ceq', 'ebit',\n",
       "       'icapt', 'lct', 'ni', 'revt', 'seq', 'xrd', 'xrdp', 'costat', 'sic'],\n",
       "      dtype='object')"
      ]
     },
     "execution_count": 35,
     "metadata": {},
     "output_type": "execute_result"
    }
   ],
   "source": [
    "# Dropping 'total debt'\n",
    "\n",
    "df_final = df_final.drop(columns=['dt'])\n",
    "df_final.columns"
   ]
  },
  {
   "cell_type": "code",
   "execution_count": 36,
   "metadata": {},
   "outputs": [
    {
     "data": {
      "text/plain": [
       "GVKEY          0\n",
       "datadate       0\n",
       "fyear          0\n",
       "indfmt         0\n",
       "consol         0\n",
       "popsrc         0\n",
       "datafmt        0\n",
       "conm           0\n",
       "curcd          0\n",
       "aco            0\n",
       "act            1\n",
       "aqc            0\n",
       "at             0\n",
       "capx          24\n",
       "ceq            0\n",
       "ebit           0\n",
       "icapt          0\n",
       "lct            1\n",
       "ni             0\n",
       "revt           0\n",
       "seq            0\n",
       "xrd         2868\n",
       "xrdp        2895\n",
       "costat         0\n",
       "sic            0\n",
       "dtype: int64"
      ]
     },
     "execution_count": 36,
     "metadata": {},
     "output_type": "execute_result"
    }
   ],
   "source": [
    "df_final.isnull().sum()"
   ]
  },
  {
   "cell_type": "code",
   "execution_count": 37,
   "metadata": {},
   "outputs": [],
   "source": [
    "# df_final.to_csv('final_dataset.csv')"
   ]
  }
 ],
 "metadata": {
  "kernelspec": {
   "display_name": "Python 3",
   "language": "python",
   "name": "python3"
  },
  "language_info": {
   "codemirror_mode": {
    "name": "ipython",
    "version": 3
   },
   "file_extension": ".py",
   "mimetype": "text/x-python",
   "name": "python",
   "nbconvert_exporter": "python",
   "pygments_lexer": "ipython3",
   "version": "3.11.4"
  }
 },
 "nbformat": 4,
 "nbformat_minor": 2
}
