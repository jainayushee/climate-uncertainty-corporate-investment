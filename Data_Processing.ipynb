{
 "cells": [
  {
   "cell_type": "code",
   "execution_count": 39,
   "metadata": {},
   "outputs": [],
   "source": [
    "import pandas as pd\n",
    "import warnings\n",
    "warnings.filterwarnings('ignore')"
   ]
  },
  {
   "cell_type": "code",
   "execution_count": 40,
   "metadata": {},
   "outputs": [
    {
     "data": {
      "text/plain": [
       "(11553, 26)"
      ]
     },
     "execution_count": 40,
     "metadata": {},
     "output_type": "execute_result"
    }
   ],
   "source": [
    "df = pd.read_csv('data/S&PDataset_final.csv')\n",
    "df.shape"
   ]
  },
  {
   "cell_type": "code",
   "execution_count": 41,
   "metadata": {},
   "outputs": [
    {
     "data": {
      "text/plain": [
       "GVKEY\n",
       "14282    26\n",
       "13824    26\n",
       "11506    26\n",
       "11465    26\n",
       "11456    26\n",
       "         ..\n",
       "36191     4\n",
       "37460     4\n",
       "40614     2\n",
       "43197     1\n",
       "41818     1\n",
       "Name: count, Length: 497, dtype: int64"
      ]
     },
     "execution_count": 41,
     "metadata": {},
     "output_type": "execute_result"
    }
   ],
   "source": [
    "row_count_per_gvkey = df['GVKEY'].value_counts()\n",
    "row_count_per_gvkey"
   ]
  },
  {
   "cell_type": "code",
   "execution_count": 42,
   "metadata": {},
   "outputs": [
    {
     "data": {
      "text/plain": [
       "Index([  3851,  62689,   5568,  28877, 126136, 137131, 126554, 141459, 139665,\n",
       "       138743,\n",
       "       ...\n",
       "        34636,  34443,  35077,  35168,  36190,  36191,  37460,  40614,  43197,\n",
       "        41818],\n",
       "      dtype='int64', name='GVKEY', length=137)"
      ]
     },
     "execution_count": 42,
     "metadata": {},
     "output_type": "execute_result"
    }
   ],
   "source": [
    "companies_to_drop = row_count_per_gvkey[row_count_per_gvkey < 25].index\n",
    "companies_to_drop"
   ]
  },
  {
   "cell_type": "code",
   "execution_count": 43,
   "metadata": {},
   "outputs": [],
   "source": [
    "df = df[~df['GVKEY'].isin(companies_to_drop)]"
   ]
  },
  {
   "cell_type": "code",
   "execution_count": 44,
   "metadata": {},
   "outputs": [
    {
     "data": {
      "text/plain": [
       "360"
      ]
     },
     "execution_count": 44,
     "metadata": {},
     "output_type": "execute_result"
    }
   ],
   "source": [
    "df['conm'].nunique()"
   ]
  },
  {
   "cell_type": "code",
   "execution_count": 45,
   "metadata": {},
   "outputs": [
    {
     "data": {
      "text/plain": [
       "GVKEY          0\n",
       "datadate       0\n",
       "fyear          0\n",
       "indfmt         0\n",
       "consol         0\n",
       "popsrc         0\n",
       "datafmt        0\n",
       "conm           0\n",
       "curcd          0\n",
       "aco          418\n",
       "act         1814\n",
       "aqc          938\n",
       "at             0\n",
       "capx         153\n",
       "ceq            0\n",
       "dt          1445\n",
       "ebit           0\n",
       "icapt          1\n",
       "lct         1801\n",
       "ni             0\n",
       "revt           0\n",
       "seq            0\n",
       "xrd         3946\n",
       "xrdp        3966\n",
       "costat         0\n",
       "sic            0\n",
       "dtype: int64"
      ]
     },
     "execution_count": 45,
     "metadata": {},
     "output_type": "execute_result"
    }
   ],
   "source": [
    "df.isnull().sum()"
   ]
  },
  {
   "cell_type": "code",
   "execution_count": 46,
   "metadata": {},
   "outputs": [
    {
     "data": {
      "text/plain": [
       "69"
      ]
     },
     "execution_count": 46,
     "metadata": {},
     "output_type": "execute_result"
    }
   ],
   "source": [
    "# Counting total financial companies\n",
    "\n",
    "rows_with_sic_starting_6 = df[df['sic'].astype(str).str.startswith('6')]\n",
    "grouped_by_gvkey = rows_with_sic_starting_6.groupby('GVKEY')\n",
    "unique_gvkeys = grouped_by_gvkey.groups.keys()\n",
    "len(unique_gvkeys)\n"
   ]
  },
  {
   "cell_type": "code",
   "execution_count": 47,
   "metadata": {},
   "outputs": [],
   "source": [
    "# # Counting financial companies that have incomplete data\n",
    "\n",
    "# # filtered_df = df[~df['fyear'].between(1999, 2022)]\n",
    "# filtered_df_starting_6 = df[df['sic'].astype(str).str.startswith('6')]\n",
    "# grouped_by_gvkey = filtered_df_starting_6.groupby('GVKEY')\n",
    "# unique_gvkeys_starting_6 = grouped_by_gvkey.groups.keys()\n",
    "# len(unique_gvkeys_starting_6)"
   ]
  },
  {
   "cell_type": "code",
   "execution_count": 48,
   "metadata": {},
   "outputs": [],
   "source": [
    "# Dropping all companies that have incomplete data and financial companies\n",
    "\n",
    "# df_within_year_range = df[df['fyear'].between(1999, 2022)]\n",
    "df_no_sic_starting_6 = df[~df['sic'].astype(str).str.startswith('6')]"
   ]
  },
  {
   "cell_type": "code",
   "execution_count": 49,
   "metadata": {},
   "outputs": [
    {
     "data": {
      "text/plain": [
       "291"
      ]
     },
     "execution_count": 49,
     "metadata": {},
     "output_type": "execute_result"
    }
   ],
   "source": [
    "df_no_sic_starting_6['GVKEY'].nunique()"
   ]
  },
  {
   "cell_type": "code",
   "execution_count": 50,
   "metadata": {},
   "outputs": [
    {
     "data": {
      "text/plain": [
       "GVKEY\n",
       "8543      26\n",
       "63172     26\n",
       "10247     26\n",
       "10407     26\n",
       "10453     26\n",
       "          ..\n",
       "15855     25\n",
       "16721     25\n",
       "25313     25\n",
       "27965     25\n",
       "126721    25\n",
       "Name: count, Length: 291, dtype: int64"
      ]
     },
     "execution_count": 50,
     "metadata": {},
     "output_type": "execute_result"
    }
   ],
   "source": [
    "df_no_sic_starting_6['GVKEY'].value_counts()"
   ]
  },
  {
   "cell_type": "code",
   "execution_count": 51,
   "metadata": {},
   "outputs": [
    {
     "name": "stdout",
     "output_type": "stream",
     "text": [
      "Shape:  (7523, 26)\n",
      "Total remaining companies:  291\n"
     ]
    }
   ],
   "source": [
    "print(\"Shape: \", df_no_sic_starting_6.shape)\n",
    "print(\"Total remaining companies: \", df_no_sic_starting_6['conm'].nunique())"
   ]
  },
  {
   "cell_type": "code",
   "execution_count": 52,
   "metadata": {},
   "outputs": [
    {
     "data": {
      "text/plain": [
       "GVKEY          0\n",
       "datadate       0\n",
       "fyear          0\n",
       "indfmt         0\n",
       "consol         0\n",
       "popsrc         0\n",
       "datafmt        0\n",
       "conm           0\n",
       "curcd          0\n",
       "aco            2\n",
       "act          295\n",
       "aqc          751\n",
       "at             0\n",
       "capx          33\n",
       "ceq            0\n",
       "dt           987\n",
       "ebit           0\n",
       "icapt          1\n",
       "lct          282\n",
       "ni             0\n",
       "revt           0\n",
       "seq            0\n",
       "xrd         2701\n",
       "xrdp        2720\n",
       "costat         0\n",
       "sic            0\n",
       "dtype: int64"
      ]
     },
     "execution_count": 52,
     "metadata": {},
     "output_type": "execute_result"
    }
   ],
   "source": [
    "df_no_sic_starting_6.isnull().sum()"
   ]
  },
  {
   "cell_type": "code",
   "execution_count": 53,
   "metadata": {},
   "outputs": [
    {
     "data": {
      "text/plain": [
       "GVKEY\n",
       "8543      26\n",
       "63172     26\n",
       "10247     26\n",
       "10407     26\n",
       "10453     26\n",
       "          ..\n",
       "15855     25\n",
       "16721     25\n",
       "25313     25\n",
       "27965     25\n",
       "126721    25\n",
       "Name: count, Length: 291, dtype: int64"
      ]
     },
     "execution_count": 53,
     "metadata": {},
     "output_type": "execute_result"
    }
   ],
   "source": [
    "df_no_sic_starting_6['GVKEY'].value_counts()"
   ]
  },
  {
   "cell_type": "code",
   "execution_count": 54,
   "metadata": {},
   "outputs": [
    {
     "name": "stdout",
     "output_type": "stream",
     "text": [
      "14 companies with missing act and lct values: [2176, 3835, 4839, 5047, 5073, 6669, 8253, 8823, 10519, 11456, 12459, 12635, 25340, 66065]\n",
      "8543\n"
     ]
    }
   ],
   "source": [
    "# Counting the unique companies that have missing values for total current assets and liabilities\n",
    "\n",
    "grouped_by_gvkey = df_no_sic_starting_6.groupby('GVKEY')\n",
    "\n",
    "missing_act = grouped_by_gvkey['act'].apply(lambda x: x.isnull().sum())\n",
    "missing_lct = grouped_by_gvkey['lct'].apply(lambda x: x.isnull().sum())\n",
    "\n",
    "missing_companies = []\n",
    "lct_act = 8543\n",
    "for gvkey, count in missing_act.items():\n",
    "    if count != 0 and count > 2:\n",
    "        missing_companies.append(gvkey)\n",
    "\n",
    "print((\"{total} companies with missing act and lct values: {list}\").format(total = len(missing_companies), list = missing_companies))\n",
    "print(lct_act)"
   ]
  },
  {
   "cell_type": "code",
   "execution_count": 55,
   "metadata": {},
   "outputs": [
    {
     "data": {
      "text/plain": [
       "4514        NaN\n",
       "4515        NaN\n",
       "4516    17238.0\n",
       "4517    17275.0\n",
       "4518    17441.0\n",
       "4519    21382.0\n",
       "4520    25901.0\n",
       "4521    25781.0\n",
       "4522    26152.0\n",
       "4523    22890.0\n",
       "4524    11076.0\n",
       "4525     5773.0\n",
       "4526     5981.0\n",
       "4527     7131.0\n",
       "4528     6315.0\n",
       "4529     6590.0\n",
       "4530     6878.0\n",
       "4531     6086.0\n",
       "4532     7260.0\n",
       "4533     4344.0\n",
       "4534     4299.0\n",
       "4535     4824.0\n",
       "4536     7117.0\n",
       "4537     6083.0\n",
       "4538     7220.0\n",
       "4539     5585.0\n",
       "Name: act, dtype: float64"
      ]
     },
     "execution_count": 55,
     "metadata": {},
     "output_type": "execute_result"
    }
   ],
   "source": [
    "df_no_sic_starting_6[df_no_sic_starting_6['GVKEY'] == lct_act]['act']"
   ]
  },
  {
   "cell_type": "code",
   "execution_count": 56,
   "metadata": {},
   "outputs": [
    {
     "data": {
      "text/plain": [
       "GVKEY\n",
       "1045      0\n",
       "1075      0\n",
       "1078      0\n",
       "1161      0\n",
       "1209      0\n",
       "         ..\n",
       "119314    0\n",
       "121077    0\n",
       "121718    0\n",
       "125595    0\n",
       "126721    0\n",
       "Name: act, Length: 291, dtype: int64"
      ]
     },
     "execution_count": 56,
     "metadata": {},
     "output_type": "execute_result"
    }
   ],
   "source": [
    "missing_act"
   ]
  },
  {
   "cell_type": "code",
   "execution_count": 57,
   "metadata": {},
   "outputs": [
    {
     "data": {
      "text/plain": [
       "[2176,\n",
       " 3835,\n",
       " 4839,\n",
       " 5047,\n",
       " 5073,\n",
       " 6669,\n",
       " 8253,\n",
       " 8823,\n",
       " 10519,\n",
       " 11456,\n",
       " 12459,\n",
       " 12635,\n",
       " 25340,\n",
       " 66065]"
      ]
     },
     "execution_count": 57,
     "metadata": {},
     "output_type": "execute_result"
    }
   ],
   "source": [
    "missing_companies"
   ]
  },
  {
   "cell_type": "code",
   "execution_count": 58,
   "metadata": {},
   "outputs": [
    {
     "data": {
      "text/plain": [
       "8543"
      ]
     },
     "execution_count": 58,
     "metadata": {},
     "output_type": "execute_result"
    }
   ],
   "source": [
    "lct_act"
   ]
  },
  {
   "cell_type": "code",
   "execution_count": 59,
   "metadata": {},
   "outputs": [
    {
     "data": {
      "text/plain": [
       "291"
      ]
     },
     "execution_count": 59,
     "metadata": {},
     "output_type": "execute_result"
    }
   ],
   "source": [
    "df_no_sic_starting_6['GVKEY'].nunique()"
   ]
  },
  {
   "cell_type": "code",
   "execution_count": 60,
   "metadata": {},
   "outputs": [
    {
     "data": {
      "text/plain": [
       "277"
      ]
     },
     "execution_count": 60,
     "metadata": {},
     "output_type": "execute_result"
    }
   ],
   "source": [
    "# Dropping companies with no act or lct values\n",
    "df_final = df_no_sic_starting_6[~df_no_sic_starting_6['GVKEY'].isin(missing_companies)]\n",
    "df_final['GVKEY'].nunique()"
   ]
  },
  {
   "cell_type": "code",
   "execution_count": 61,
   "metadata": {},
   "outputs": [],
   "source": [
    "# Substituing null values for aqcuisitions to 0\n",
    "\n",
    "df_final['aqc'].fillna(0, inplace=True)"
   ]
  },
  {
   "cell_type": "code",
   "execution_count": 62,
   "metadata": {},
   "outputs": [
    {
     "data": {
      "text/plain": [
       "Index(['GVKEY', 'datadate', 'fyear', 'indfmt', 'consol', 'popsrc', 'datafmt',\n",
       "       'conm', 'curcd', 'aco', 'act', 'aqc', 'at', 'capx', 'ceq', 'ebit',\n",
       "       'icapt', 'lct', 'ni', 'revt', 'seq', 'xrd', 'xrdp', 'costat', 'sic'],\n",
       "      dtype='object')"
      ]
     },
     "execution_count": 62,
     "metadata": {},
     "output_type": "execute_result"
    }
   ],
   "source": [
    "# Dropping 'total debt'\n",
    "\n",
    "df_final = df_final.drop(columns=['dt'])\n",
    "df_final.columns"
   ]
  },
  {
   "cell_type": "code",
   "execution_count": 63,
   "metadata": {},
   "outputs": [
    {
     "data": {
      "text/plain": [
       "GVKEY          0\n",
       "datadate       0\n",
       "fyear          0\n",
       "indfmt         0\n",
       "consol         0\n",
       "popsrc         0\n",
       "datafmt        0\n",
       "conm           0\n",
       "curcd          0\n",
       "aco            2\n",
       "act            2\n",
       "aqc            0\n",
       "at             0\n",
       "capx          30\n",
       "ceq            0\n",
       "ebit           0\n",
       "icapt          1\n",
       "lct            2\n",
       "ni             0\n",
       "revt           0\n",
       "seq            0\n",
       "xrd         2532\n",
       "xrdp        2551\n",
       "costat         0\n",
       "sic            0\n",
       "dtype: int64"
      ]
     },
     "execution_count": 63,
     "metadata": {},
     "output_type": "execute_result"
    }
   ],
   "source": [
    "df_final.isnull().sum()"
   ]
  },
  {
   "cell_type": "code",
   "execution_count": 64,
   "metadata": {},
   "outputs": [
    {
     "data": {
      "text/html": [
       "<div>\n",
       "<style scoped>\n",
       "    .dataframe tbody tr th:only-of-type {\n",
       "        vertical-align: middle;\n",
       "    }\n",
       "\n",
       "    .dataframe tbody tr th {\n",
       "        vertical-align: top;\n",
       "    }\n",
       "\n",
       "    .dataframe thead th {\n",
       "        text-align: right;\n",
       "    }\n",
       "</style>\n",
       "<table border=\"1\" class=\"dataframe\">\n",
       "  <thead>\n",
       "    <tr style=\"text-align: right;\">\n",
       "      <th></th>\n",
       "      <th>GVKEY</th>\n",
       "      <th>datadate</th>\n",
       "      <th>fyear</th>\n",
       "      <th>indfmt</th>\n",
       "      <th>consol</th>\n",
       "      <th>popsrc</th>\n",
       "      <th>datafmt</th>\n",
       "      <th>conm</th>\n",
       "      <th>curcd</th>\n",
       "      <th>aco</th>\n",
       "      <th>...</th>\n",
       "      <th>ebit</th>\n",
       "      <th>icapt</th>\n",
       "      <th>lct</th>\n",
       "      <th>ni</th>\n",
       "      <th>revt</th>\n",
       "      <th>seq</th>\n",
       "      <th>xrd</th>\n",
       "      <th>xrdp</th>\n",
       "      <th>costat</th>\n",
       "      <th>sic</th>\n",
       "    </tr>\n",
       "  </thead>\n",
       "  <tbody>\n",
       "    <tr>\n",
       "      <th>24</th>\n",
       "      <td>1045</td>\n",
       "      <td>31/12/2023</td>\n",
       "      <td>2023</td>\n",
       "      <td>INDL</td>\n",
       "      <td>C</td>\n",
       "      <td>D</td>\n",
       "      <td>STD</td>\n",
       "      <td>AMERICAN AIRLINES GROUP INC</td>\n",
       "      <td>USD</td>\n",
       "      <td>658.000</td>\n",
       "      <td>...</td>\n",
       "      <td>4013.000</td>\n",
       "      <td>30520.000</td>\n",
       "      <td>22062.000</td>\n",
       "      <td>822.000</td>\n",
       "      <td>52788.000</td>\n",
       "      <td>-5202.000</td>\n",
       "      <td>NaN</td>\n",
       "      <td>NaN</td>\n",
       "      <td>A</td>\n",
       "      <td>4512</td>\n",
       "    </tr>\n",
       "    <tr>\n",
       "      <th>75</th>\n",
       "      <td>1078</td>\n",
       "      <td>31/12/2023</td>\n",
       "      <td>2023</td>\n",
       "      <td>INDL</td>\n",
       "      <td>C</td>\n",
       "      <td>D</td>\n",
       "      <td>STD</td>\n",
       "      <td>ABBOTT LABORATORIES</td>\n",
       "      <td>USD</td>\n",
       "      <td>2256.000</td>\n",
       "      <td>...</td>\n",
       "      <td>6793.000</td>\n",
       "      <td>53375.000</td>\n",
       "      <td>13841.000</td>\n",
       "      <td>5723.000</td>\n",
       "      <td>40109.000</td>\n",
       "      <td>38603.000</td>\n",
       "      <td>2741.000</td>\n",
       "      <td>2888.000</td>\n",
       "      <td>A</td>\n",
       "      <td>3845</td>\n",
       "    </tr>\n",
       "    <tr>\n",
       "      <th>101</th>\n",
       "      <td>1161</td>\n",
       "      <td>31/12/2023</td>\n",
       "      <td>2023</td>\n",
       "      <td>INDL</td>\n",
       "      <td>C</td>\n",
       "      <td>D</td>\n",
       "      <td>STD</td>\n",
       "      <td>ADVANCED MICRO DEVICES</td>\n",
       "      <td>USD</td>\n",
       "      <td>1259.000</td>\n",
       "      <td>...</td>\n",
       "      <td>629.000</td>\n",
       "      <td>58144.000</td>\n",
       "      <td>6689.000</td>\n",
       "      <td>854.000</td>\n",
       "      <td>22680.000</td>\n",
       "      <td>55892.000</td>\n",
       "      <td>5872.000</td>\n",
       "      <td>5005.000</td>\n",
       "      <td>A</td>\n",
       "      <td>3674</td>\n",
       "    </tr>\n",
       "    <tr>\n",
       "      <th>127</th>\n",
       "      <td>1209</td>\n",
       "      <td>30/09/2023</td>\n",
       "      <td>2023</td>\n",
       "      <td>INDL</td>\n",
       "      <td>C</td>\n",
       "      <td>D</td>\n",
       "      <td>STD</td>\n",
       "      <td>AIR PRODUCTS &amp; CHEMICALS INC</td>\n",
       "      <td>USD</td>\n",
       "      <td>436.800</td>\n",
       "      <td>...</td>\n",
       "      <td>2704.400</td>\n",
       "      <td>25722.700</td>\n",
       "      <td>3895.800</td>\n",
       "      <td>2300.200</td>\n",
       "      <td>12600.000</td>\n",
       "      <td>14312.900</td>\n",
       "      <td>105.600</td>\n",
       "      <td>102.900</td>\n",
       "      <td>A</td>\n",
       "      <td>2810</td>\n",
       "    </tr>\n",
       "    <tr>\n",
       "      <th>153</th>\n",
       "      <td>1300</td>\n",
       "      <td>31/12/2023</td>\n",
       "      <td>2023</td>\n",
       "      <td>INDL</td>\n",
       "      <td>C</td>\n",
       "      <td>D</td>\n",
       "      <td>STD</td>\n",
       "      <td>HONEYWELL INTERNATIONAL INC</td>\n",
       "      <td>USD</td>\n",
       "      <td>1462.000</td>\n",
       "      <td>...</td>\n",
       "      <td>7084.000</td>\n",
       "      <td>33900.000</td>\n",
       "      <td>18539.000</td>\n",
       "      <td>5658.000</td>\n",
       "      <td>36662.000</td>\n",
       "      <td>15856.000</td>\n",
       "      <td>1456.000</td>\n",
       "      <td>1478.000</td>\n",
       "      <td>A</td>\n",
       "      <td>9997</td>\n",
       "    </tr>\n",
       "    <tr>\n",
       "      <th>...</th>\n",
       "      <td>...</td>\n",
       "      <td>...</td>\n",
       "      <td>...</td>\n",
       "      <td>...</td>\n",
       "      <td>...</td>\n",
       "      <td>...</td>\n",
       "      <td>...</td>\n",
       "      <td>...</td>\n",
       "      <td>...</td>\n",
       "      <td>...</td>\n",
       "      <td>...</td>\n",
       "      <td>...</td>\n",
       "      <td>...</td>\n",
       "      <td>...</td>\n",
       "      <td>...</td>\n",
       "      <td>...</td>\n",
       "      <td>...</td>\n",
       "      <td>...</td>\n",
       "      <td>...</td>\n",
       "      <td>...</td>\n",
       "      <td>...</td>\n",
       "    </tr>\n",
       "    <tr>\n",
       "      <th>9686</th>\n",
       "      <td>119314</td>\n",
       "      <td>31/12/2023</td>\n",
       "      <td>2023</td>\n",
       "      <td>INDL</td>\n",
       "      <td>C</td>\n",
       "      <td>D</td>\n",
       "      <td>STD</td>\n",
       "      <td>BOOKING HOLDINGS INC</td>\n",
       "      <td>USD</td>\n",
       "      <td>1070.000</td>\n",
       "      <td>...</td>\n",
       "      <td>6793.000</td>\n",
       "      <td>10112.000</td>\n",
       "      <td>13330.000</td>\n",
       "      <td>4289.000</td>\n",
       "      <td>21365.000</td>\n",
       "      <td>-2744.000</td>\n",
       "      <td>NaN</td>\n",
       "      <td>NaN</td>\n",
       "      <td>A</td>\n",
       "      <td>4700</td>\n",
       "    </tr>\n",
       "    <tr>\n",
       "      <th>9711</th>\n",
       "      <td>121077</td>\n",
       "      <td>30/09/2023</td>\n",
       "      <td>2023</td>\n",
       "      <td>INDL</td>\n",
       "      <td>C</td>\n",
       "      <td>D</td>\n",
       "      <td>STD</td>\n",
       "      <td>F5 INC</td>\n",
       "      <td>USD</td>\n",
       "      <td>180.631</td>\n",
       "      <td>...</td>\n",
       "      <td>559.618</td>\n",
       "      <td>3039.797</td>\n",
       "      <td>1472.781</td>\n",
       "      <td>394.948</td>\n",
       "      <td>2813.169</td>\n",
       "      <td>2800.232</td>\n",
       "      <td>540.285</td>\n",
       "      <td>543.368</td>\n",
       "      <td>A</td>\n",
       "      <td>7373</td>\n",
       "    </tr>\n",
       "    <tr>\n",
       "      <th>9761</th>\n",
       "      <td>121718</td>\n",
       "      <td>31/12/2023</td>\n",
       "      <td>2023</td>\n",
       "      <td>INDL</td>\n",
       "      <td>C</td>\n",
       "      <td>D</td>\n",
       "      <td>STD</td>\n",
       "      <td>JUNIPER NETWORKS INC</td>\n",
       "      <td>USD</td>\n",
       "      <td>572.600</td>\n",
       "      <td>...</td>\n",
       "      <td>568.800</td>\n",
       "      <td>6192.400</td>\n",
       "      <td>2104.000</td>\n",
       "      <td>310.200</td>\n",
       "      <td>5564.500</td>\n",
       "      <td>4492.700</td>\n",
       "      <td>1144.400</td>\n",
       "      <td>1036.100</td>\n",
       "      <td>A</td>\n",
       "      <td>3576</td>\n",
       "    </tr>\n",
       "    <tr>\n",
       "      <th>9811</th>\n",
       "      <td>125595</td>\n",
       "      <td>31/12/2023</td>\n",
       "      <td>2023</td>\n",
       "      <td>INDL</td>\n",
       "      <td>C</td>\n",
       "      <td>D</td>\n",
       "      <td>STD</td>\n",
       "      <td>AKAMAI TECHNOLOGIES INC</td>\n",
       "      <td>USD</td>\n",
       "      <td>216.114</td>\n",
       "      <td>...</td>\n",
       "      <td>706.497</td>\n",
       "      <td>8910.190</td>\n",
       "      <td>836.038</td>\n",
       "      <td>547.629</td>\n",
       "      <td>3811.920</td>\n",
       "      <td>4597.155</td>\n",
       "      <td>406.048</td>\n",
       "      <td>391.434</td>\n",
       "      <td>A</td>\n",
       "      <td>7370</td>\n",
       "    </tr>\n",
       "    <tr>\n",
       "      <th>9906</th>\n",
       "      <td>126721</td>\n",
       "      <td>31/12/2023</td>\n",
       "      <td>2023</td>\n",
       "      <td>INDL</td>\n",
       "      <td>C</td>\n",
       "      <td>D</td>\n",
       "      <td>STD</td>\n",
       "      <td>TELEDYNE TECHNOLOGIES INC</td>\n",
       "      <td>USD</td>\n",
       "      <td>213.300</td>\n",
       "      <td>...</td>\n",
       "      <td>1043.200</td>\n",
       "      <td>11994.000</td>\n",
       "      <td>1766.100</td>\n",
       "      <td>885.700</td>\n",
       "      <td>5635.500</td>\n",
       "      <td>9221.200</td>\n",
       "      <td>365.800</td>\n",
       "      <td>360.600</td>\n",
       "      <td>A</td>\n",
       "      <td>3812</td>\n",
       "    </tr>\n",
       "  </tbody>\n",
       "</table>\n",
       "<p>242 rows × 25 columns</p>\n",
       "</div>"
      ],
      "text/plain": [
       "       GVKEY    datadate  fyear indfmt consol popsrc datafmt  \\\n",
       "24      1045  31/12/2023   2023   INDL      C      D     STD   \n",
       "75      1078  31/12/2023   2023   INDL      C      D     STD   \n",
       "101     1161  31/12/2023   2023   INDL      C      D     STD   \n",
       "127     1209  30/09/2023   2023   INDL      C      D     STD   \n",
       "153     1300  31/12/2023   2023   INDL      C      D     STD   \n",
       "...      ...         ...    ...    ...    ...    ...     ...   \n",
       "9686  119314  31/12/2023   2023   INDL      C      D     STD   \n",
       "9711  121077  30/09/2023   2023   INDL      C      D     STD   \n",
       "9761  121718  31/12/2023   2023   INDL      C      D     STD   \n",
       "9811  125595  31/12/2023   2023   INDL      C      D     STD   \n",
       "9906  126721  31/12/2023   2023   INDL      C      D     STD   \n",
       "\n",
       "                              conm curcd       aco  ...      ebit      icapt  \\\n",
       "24     AMERICAN AIRLINES GROUP INC   USD   658.000  ...  4013.000  30520.000   \n",
       "75             ABBOTT LABORATORIES   USD  2256.000  ...  6793.000  53375.000   \n",
       "101         ADVANCED MICRO DEVICES   USD  1259.000  ...   629.000  58144.000   \n",
       "127   AIR PRODUCTS & CHEMICALS INC   USD   436.800  ...  2704.400  25722.700   \n",
       "153    HONEYWELL INTERNATIONAL INC   USD  1462.000  ...  7084.000  33900.000   \n",
       "...                            ...   ...       ...  ...       ...        ...   \n",
       "9686          BOOKING HOLDINGS INC   USD  1070.000  ...  6793.000  10112.000   \n",
       "9711                        F5 INC   USD   180.631  ...   559.618   3039.797   \n",
       "9761          JUNIPER NETWORKS INC   USD   572.600  ...   568.800   6192.400   \n",
       "9811       AKAMAI TECHNOLOGIES INC   USD   216.114  ...   706.497   8910.190   \n",
       "9906     TELEDYNE TECHNOLOGIES INC   USD   213.300  ...  1043.200  11994.000   \n",
       "\n",
       "            lct        ni       revt        seq       xrd      xrdp  costat  \\\n",
       "24    22062.000   822.000  52788.000  -5202.000       NaN       NaN       A   \n",
       "75    13841.000  5723.000  40109.000  38603.000  2741.000  2888.000       A   \n",
       "101    6689.000   854.000  22680.000  55892.000  5872.000  5005.000       A   \n",
       "127    3895.800  2300.200  12600.000  14312.900   105.600   102.900       A   \n",
       "153   18539.000  5658.000  36662.000  15856.000  1456.000  1478.000       A   \n",
       "...         ...       ...        ...        ...       ...       ...     ...   \n",
       "9686  13330.000  4289.000  21365.000  -2744.000       NaN       NaN       A   \n",
       "9711   1472.781   394.948   2813.169   2800.232   540.285   543.368       A   \n",
       "9761   2104.000   310.200   5564.500   4492.700  1144.400  1036.100       A   \n",
       "9811    836.038   547.629   3811.920   4597.155   406.048   391.434       A   \n",
       "9906   1766.100   885.700   5635.500   9221.200   365.800   360.600       A   \n",
       "\n",
       "       sic  \n",
       "24    4512  \n",
       "75    3845  \n",
       "101   3674  \n",
       "127   2810  \n",
       "153   9997  \n",
       "...    ...  \n",
       "9686  4700  \n",
       "9711  7373  \n",
       "9761  3576  \n",
       "9811  7370  \n",
       "9906  3812  \n",
       "\n",
       "[242 rows x 25 columns]"
      ]
     },
     "execution_count": 64,
     "metadata": {},
     "output_type": "execute_result"
    }
   ],
   "source": [
    "df_final[df_final['fyear'] == 2023]"
   ]
  },
  {
   "cell_type": "code",
   "execution_count": 65,
   "metadata": {},
   "outputs": [],
   "source": [
    "df_final = df_final[df_final['fyear'] != 1998]"
   ]
  },
  {
   "cell_type": "code",
   "execution_count": 66,
   "metadata": {},
   "outputs": [],
   "source": [
    "df_final = df_final[df_final['fyear'] != 2023]"
   ]
  },
  {
   "cell_type": "code",
   "execution_count": 67,
   "metadata": {},
   "outputs": [],
   "source": [
    "df_final = df_final[df_final['GVKEY'] != 1045]"
   ]
  },
  {
   "cell_type": "code",
   "execution_count": 68,
   "metadata": {},
   "outputs": [
    {
     "data": {
      "text/plain": [
       "GVKEY\n",
       "1075      24\n",
       "12540     24\n",
       "14225     24\n",
       "13824     24\n",
       "13714     24\n",
       "          ..\n",
       "6730      24\n",
       "6733      24\n",
       "6774      24\n",
       "6829      24\n",
       "126721    24\n",
       "Name: count, Length: 276, dtype: int64"
      ]
     },
     "execution_count": 68,
     "metadata": {},
     "output_type": "execute_result"
    }
   ],
   "source": [
    "df_final['GVKEY'].value_counts()"
   ]
  },
  {
   "cell_type": "code",
   "execution_count": 69,
   "metadata": {},
   "outputs": [],
   "source": [
    "# df_final.to_csv('final_dataset.csv')"
   ]
  },
  {
   "cell_type": "code",
   "execution_count": 70,
   "metadata": {},
   "outputs": [
    {
     "data": {
      "text/plain": [
       "GVKEY          0\n",
       "datadate       0\n",
       "fyear          0\n",
       "indfmt         0\n",
       "consol         0\n",
       "popsrc         0\n",
       "datafmt        0\n",
       "conm           0\n",
       "curcd          0\n",
       "aco            0\n",
       "act            1\n",
       "aqc            0\n",
       "at             0\n",
       "capx          22\n",
       "ceq            0\n",
       "ebit           0\n",
       "icapt          0\n",
       "lct            1\n",
       "ni             0\n",
       "revt           0\n",
       "seq            0\n",
       "xrd         2322\n",
       "xrdp        2339\n",
       "costat         0\n",
       "sic            0\n",
       "dtype: int64"
      ]
     },
     "execution_count": 70,
     "metadata": {},
     "output_type": "execute_result"
    }
   ],
   "source": [
    "df_final.isnull().sum()"
   ]
  },
  {
   "cell_type": "code",
   "execution_count": 71,
   "metadata": {},
   "outputs": [
    {
     "data": {
      "image/png": "[encoded data removed]",
      "text/plain": [
       "<Figure size 1000x600 with 1 Axes>"
      ]
     },
     "metadata": {},
     "output_type": "display_data"
    },
    {
     "data": {
      "image/png": "[encoded data removed]",
      "text/plain": [
       "<Figure size 1000x600 with 1 Axes>"
      ]
     },
     "metadata": {},
     "output_type": "display_data"
    },
    {
     "data": {
      "image/png": "[encoded data removed]",
      "text/plain": [
       "<Figure size 1000x600 with 1 Axes>"
      ]
     },
     "metadata": {},
     "output_type": "display_data"
    }
   ],
   "source": [
    "import matplotlib.pyplot as plt\n",
    "import seaborn as sns\n",
    "\n",
    "# Set seaborn style\n",
    "sns.set_style(\"whitegrid\")\n",
    "\n",
    "# Plot lct vs fyear\n",
    "plt.figure(figsize=(10, 6))\n",
    "sns.lineplot(data=df, x='fyear', y='lct')\n",
    "plt.title('Total Current Liabilities vs Fiscal Year')\n",
    "plt.xlabel('Fiscal Year')\n",
    "plt.ylabel('Liabilities and Capital Total')\n",
    "plt.show()\n",
    "\n",
    "# Plot act vs fyear\n",
    "plt.figure(figsize=(10, 6))\n",
    "sns.lineplot(data=df, x='fyear', y='act')\n",
    "plt.title('Assets - Current vs Fiscal Year')\n",
    "plt.xlabel('Fiscal Year')\n",
    "plt.ylabel('Assets - Current')\n",
    "plt.show()\n",
    "\n",
    "# Plot capx vs fyear\n",
    "plt.figure(figsize=(10, 6))\n",
    "sns.lineplot(data=df, x='fyear', y='capx')\n",
    "plt.title('Capital Expenditure vs Fiscal Year')\n",
    "plt.xlabel('Fiscal Year')\n",
    "plt.ylabel('Capital Expenditure')\n",
    "plt.show()"
   ]
  },
  {
   "cell_type": "code",
   "execution_count": 72,
   "metadata": {},
   "outputs": [
    {
     "name": "stdout",
     "output_type": "stream",
     "text": [
      "       GVKEY    datadate  fyear indfmt consol popsrc datafmt  \\\n",
      "26      1075  31/12/1999   1999   INDL      C      D     STD   \n",
      "27      1075  31/12/2000   2000   INDL      C      D     STD   \n",
      "28      1075  31/12/2001   2001   INDL      C      D     STD   \n",
      "29      1075  31/12/2002   2002   INDL      C      D     STD   \n",
      "30      1075  31/12/2003   2003   INDL      C      D     STD   \n",
      "...      ...         ...    ...    ...    ...    ...     ...   \n",
      "9901  126721  31/12/2018   2018   INDL      C      D     STD   \n",
      "9902  126721  31/12/2019   2019   INDL      C      D     STD   \n",
      "9903  126721  31/12/2020   2020   INDL      C      D     STD   \n",
      "9904  126721  31/12/2021   2021   INDL      C      D     STD   \n",
      "9905  126721  31/12/2022   2022   INDL      C      D     STD   \n",
      "\n",
      "                            conm curcd      aco  ...     ebit      icapt  \\\n",
      "26    PINNACLE WEST CAPITAL CORP   USD   68.725  ...  578.777   4411.785   \n",
      "27    PINNACLE WEST CAPITAL CORP   USD  103.791  ...  675.971   4337.797   \n",
      "28    PINNACLE WEST CAPITAL CORP   USD  147.176  ...  674.627   5172.401   \n",
      "29    PINNACLE WEST CAPITAL CORP   USD  167.234  ...  516.047   5567.848   \n",
      "30    PINNACLE WEST CAPITAL CORP   USD  170.664  ...  482.053   5727.504   \n",
      "...                          ...   ...      ...  ...      ...        ...   \n",
      "9901   TELEDYNE TECHNOLOGIES INC   USD   45.800  ...  424.400   2842.000   \n",
      "9902   TELEDYNE TECHNOLOGIES INC   USD   59.900  ...  494.000   3584.000   \n",
      "9903   TELEDYNE TECHNOLOGIES INC   USD   78.100  ...  500.900   4026.000   \n",
      "9904   TELEDYNE TECHNOLOGIES INC   USD  118.000  ...  860.100  11859.400   \n",
      "9905   TELEDYNE TECHNOLOGIES INC   USD  130.700  ...  968.000  11919.300   \n",
      "\n",
      "           lct       ni      revt       seq    xrd   xrdp  costat   sic  \n",
      "26     495.490  168.903  2423.353  2205.733    NaN    NaN       A  4911  \n",
      "27    1191.298  302.332  3690.175  2382.714    NaN    NaN       A  4911  \n",
      "28    1090.929  312.166  4551.373  2499.323    NaN    NaN       A  4911  \n",
      "29    1055.115  149.408  2637.279  2686.153    NaN    NaN       A  4911  \n",
      "30    1150.974  240.579  2817.852  2829.779    NaN    NaN       A  4911  \n",
      "...        ...      ...       ...       ...    ...    ...     ...   ...  \n",
      "9901   720.800  333.800  2901.800  2229.700  185.6  177.7       A  3812  \n",
      "9902   763.200  402.300  3163.600  2714.700  209.6  185.6       A  3812  \n",
      "9903   760.900  401.900  3086.200  3228.600  196.0  209.6       A  3812  \n",
      "9904  1498.400  445.300  4614.300  7622.000  299.3  196.0       A  3812  \n",
      "9905  1523.400  788.600  5458.600  8169.200  360.6  299.3       A  3812  \n",
      "\n",
      "[6624 rows x 25 columns]\n"
     ]
    }
   ],
   "source": [
    "from sklearn.impute import KNNImputer\n",
    "\n",
    "# Select columns with missing values\n",
    "cols_with_missing = ['capx', 'act', 'lct']\n",
    "\n",
    "# Initialize KNN imputer with k=5\n",
    "imputer = KNNImputer(n_neighbors=5)\n",
    "\n",
    "# Group the DataFrame by 'GVKEY'\n",
    "grouped = df_final.groupby('GVKEY')\n",
    "\n",
    "# Impute missing values for each group separately\n",
    "for name, group in grouped:\n",
    "    # Impute missing values for the current group\n",
    "    group[cols_with_missing] = imputer.fit_transform(group[cols_with_missing])\n",
    "    # Update the imputed values in the main DataFrame\n",
    "    df_final.loc[group.index, cols_with_missing] = group[cols_with_missing]\n",
    "\n",
    "# Print the DataFrame to verify the imputed values\n",
    "print(df_final)"
   ]
  },
  {
   "cell_type": "code",
   "execution_count": 73,
   "metadata": {},
   "outputs": [],
   "source": [
    "# missing_capx = df_final[df_final['capx'].isnull()].groupby('GVKEY').size()\n",
    "# missing_capx"
   ]
  },
  {
   "cell_type": "code",
   "execution_count": 74,
   "metadata": {},
   "outputs": [
    {
     "data": {
      "text/plain": [
       "GVKEY          0\n",
       "datadate       0\n",
       "fyear          0\n",
       "indfmt         0\n",
       "consol         0\n",
       "popsrc         0\n",
       "datafmt        0\n",
       "conm           0\n",
       "curcd          0\n",
       "aco            0\n",
       "act            0\n",
       "aqc            0\n",
       "at             0\n",
       "capx           0\n",
       "ceq            0\n",
       "ebit           0\n",
       "icapt          0\n",
       "lct            0\n",
       "ni             0\n",
       "revt           0\n",
       "seq            0\n",
       "xrd         2322\n",
       "xrdp        2339\n",
       "costat         0\n",
       "sic            0\n",
       "dtype: int64"
      ]
     },
     "execution_count": 74,
     "metadata": {},
     "output_type": "execute_result"
    }
   ],
   "source": [
    "df_final.isnull().sum()"
   ]
  },
  {
   "cell_type": "code",
   "execution_count": 75,
   "metadata": {},
   "outputs": [],
   "source": [
    "df = df_final\n",
    "\n",
    "# Calculate y = capx/at\n",
    "df['y'] = df['capx'] / df['at']\n",
    "\n",
    "# Calculate liquidity = act/lct\n",
    "df['liquidity'] = df['act'] / df['lct']\n",
    "\n",
    "# Calculate leverage = lct/ceq\n",
    "df['leverage'] = df['lct'] / df['ceq']\n",
    "\n",
    "# Assign size = at\n",
    "df['size'] = df['at']\n",
    "\n",
    "# Calculate roa = ni/at\n",
    "df['roa'] = df['ni'] / df['at']\n",
    "\n",
    "df['prev_inv'] = df['y'].shift(-1)\n",
    "\n",
    "df['prev_year_at'] = df['at'].shift(1)\n",
    "\n",
    "# Calculate the growth rate\n",
    "df['asset_growth'] = df['at'] / df['prev_year_at']\n",
    "\n",
    "# Drop the 'prev_year_at' column if not needed anymore\n",
    "df.drop(columns=['prev_year_at'], inplace=True)"
   ]
  },
  {
   "cell_type": "code",
   "execution_count": 77,
   "metadata": {},
   "outputs": [
    {
     "name": "stdout",
     "output_type": "stream",
     "text": [
      "    year   cpu_index\n",
      "0   1987   59.666897\n",
      "1   1988   65.722413\n",
      "2   1989   76.697151\n",
      "3   1990   94.779705\n",
      "4   1991   80.746618\n",
      "5   1992   88.297105\n",
      "6   1993   78.883753\n",
      "7   1994   70.176454\n",
      "8   1995   83.972636\n",
      "9   1996   66.936481\n",
      "10  1997   60.388895\n",
      "11  1998   57.564906\n",
      "12  1999   58.748100\n",
      "13  2000   62.448747\n",
      "14  2001   93.647460\n",
      "15  2002   88.280674\n",
      "16  2003   67.846581\n",
      "17  2004   65.208485\n",
      "18  2005   66.038375\n",
      "19  2006   67.521463\n",
      "20  2007  107.765643\n",
      "21  2008   97.135520\n",
      "22  2009   99.128977\n",
      "23  2010  112.572259\n",
      "24  2011  114.578606\n",
      "25  2012  100.094996\n",
      "26  2013   77.565805\n",
      "27  2014   83.167437\n",
      "28  2015   92.614515\n",
      "29  2016  120.715749\n",
      "30  2017  169.765549\n",
      "31  2018  143.290591\n",
      "32  2019  192.001778\n",
      "33  2020  218.634176\n",
      "34  2021  215.384017\n",
      "35  2022  225.413245\n",
      "36  2023  221.172666\n"
     ]
    }
   ],
   "source": [
    "# adding cpu \n",
    "# Assuming df_cpu1 is your DataFrame containing the dataset\n",
    "df_cpu1 = pd.read_csv('data/CPU index.csv')\n",
    "# Convert 'date' column to datetime format with custom date parser\n",
    "df_cpu1['date'] = pd.to_datetime(df_cpu1['date'], format='%b-%y')\n",
    "\n",
    "# Extract year from 'date' column\n",
    "df_cpu1['year'] = df_cpu1['date'].dt.year\n",
    "\n",
    "# Drop the 'old_cpu_index' column\n",
    "df_cpu1.drop(columns='old_cpu_index', inplace=True)\n",
    "\n",
    "# Group by year and compute average cpu_index\n",
    "average_cpu_index = df_cpu1.groupby('year')['cpu_index'].mean().reset_index()\n",
    "\n",
    "# Verify the result\n",
    "print(average_cpu_index)"
   ]
  },
  {
   "cell_type": "code",
   "execution_count": 78,
   "metadata": {},
   "outputs": [
    {
     "data": {
      "text/plain": [
       "GVKEY\n",
       "1075      24\n",
       "12540     24\n",
       "14225     24\n",
       "13824     24\n",
       "13714     24\n",
       "          ..\n",
       "6730      24\n",
       "6733      24\n",
       "6774      24\n",
       "6829      24\n",
       "126721    24\n",
       "Name: count, Length: 276, dtype: int64"
      ]
     },
     "execution_count": 78,
     "metadata": {},
     "output_type": "execute_result"
    }
   ],
   "source": [
    "combined_data = pd.merge(df, average_cpu_index, left_on='fyear', right_on='year', how='inner')\n",
    "combined_data[\"GVKEY\"].value_counts()"
   ]
  },
  {
   "cell_type": "code",
   "execution_count": 79,
   "metadata": {},
   "outputs": [
    {
     "data": {
      "image/png": "[encoded data removed]",
      "text/plain": [
       "<Figure size 1000x600 with 1 Axes>"
      ]
     },
     "metadata": {},
     "output_type": "display_data"
    }
   ],
   "source": [
    "plt.figure(figsize=(10, 6))\n",
    "sns.lineplot(data=average_cpu_index, x='year', y='cpu_index', color='blue', label='Mean CPU Index')\n",
    "sns.scatterplot(data=average_cpu_index, x='year', y='cpu_index', color='red', s=100, label='CPU Index')\n",
    "plt.xlabel('Year')\n",
    "plt.ylabel('Mean CPU Index')\n",
    "plt.title('Year-wise CPU Index')\n",
    "plt.legend()\n",
    "plt.grid(True)\n",
    "plt.show()"
   ]
  },
  {
   "cell_type": "code",
   "execution_count": null,
   "metadata": {},
   "outputs": [],
   "source": [
    "combined_data.to_csv('data/imputed_dataset.csv')"
   ]
  }
 ],
 "metadata": {
  "kernelspec": {
   "display_name": "Python 3",
   "language": "python",
   "name": "python3"
  },
  "language_info": {
   "codemirror_mode": {
    "name": "ipython",
    "version": 3
   },
   "file_extension": ".py",
   "mimetype": "text/x-python",
   "name": "python",
   "nbconvert_exporter": "python",
   "pygments_lexer": "ipython3",
   "version": "3.11.4"
  }
 },
 "nbformat": 4,
 "nbformat_minor": 2
}
